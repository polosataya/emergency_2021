{
 "cells": [
  {
   "cell_type": "markdown",
   "metadata": {},
   "source": [
    "# <center> Прототип решения по Треку 3:</center> <center> «Предсказание вероятности возникновения ДТП»</center>"
   ]
  },
  {
   "cell_type": "markdown",
   "metadata": {},
   "source": [
    "## Постановка задачи"
   ]
  },
  {
   "cell_type": "markdown",
   "metadata": {},
   "source": [
    "Разработать алгоритм прогнозирующий наиболее вероятную категорию события дорожно-транспортного происшествия (далее по тексту «ДТП»):\n",
    "\n",
    ">1. ДТП не произойдет\n",
    ">1. ДТП произойдет без пострадавших\n",
    ">1. ДТП произойдет с пострадавшими\n",
    "\n",
    "Данные для обучения — информация о ДТП от ГИБДД и ВНИИ ГОЧС, а также дополнительные данные по интенсивности движения, метеоусловиях на участках дороги и др. В качестве федеральных автомобильных дорог рассматриваются М-8 «Холмогоры» и Р-21 «Кола»."
   ]
  },
  {
   "cell_type": "markdown",
   "metadata": {},
   "source": [
    "## Прототип решения"
   ]
  },
  {
   "cell_type": "code",
   "execution_count": 3,
   "metadata": {},
   "outputs": [],
   "source": [
    "%matplotlib inline\n",
    "import pandas as pd\n",
    "import matplotlib.pyplot as plt\n",
    "import seaborn as sns\n",
    "from datetime import datetime, timedelta\n",
    "from sklearn import svm\n",
    "from sklearn.model_selection import train_test_split, KFold\n",
    "from sklearn.preprocessing import MinMaxScaler\n",
    "import numpy as np\n",
    "import re\n",
    "import functools\n",
    "from geopy.distance import geodesic\n",
    "from sklearn.metrics import roc_auc_score\n",
    "from sklearn.metrics import f1_score, confusion_matrix, classification_report\n",
    "import numpy as np\n",
    "from catboost import CatBoostClassifier, Pool\n",
    "from lightgbm import LGBMClassifier\n",
    "from sklearn.preprocessing import LabelEncoder"
   ]
  },
  {
   "cell_type": "code",
   "execution_count": 4,
   "metadata": {},
   "outputs": [],
   "source": [
    "pd.set_option('display.max_rows', None)\n",
    "pd.set_option('display.max_colwidth', None)\n",
    "pd.set_option('display.max_columns', None)"
   ]
  },
  {
   "cell_type": "code",
   "execution_count": 5,
   "metadata": {},
   "outputs": [],
   "source": [
    "def remove_zero(df):\n",
    "    return (df[(~df['target'].isnull()) & (df['target']!=0)])\n",
    "\n",
    "def hour_rounder(t):\n",
    "    return (t.replace(second=0, microsecond=0, minute=0, hour=t.hour)\n",
    "               +timedelta(hours=t.minute//30))"
   ]
  },
  {
   "cell_type": "markdown",
   "metadata": {},
   "source": [
    "Подготовка датасета train и test"
   ]
  },
  {
   "cell_type": "code",
   "execution_count": 6,
   "metadata": {},
   "outputs": [
    {
     "data": {
      "text/html": [
       "<div>\n",
       "<style scoped>\n",
       "    .dataframe tbody tr th:only-of-type {\n",
       "        vertical-align: middle;\n",
       "    }\n",
       "\n",
       "    .dataframe tbody tr th {\n",
       "        vertical-align: top;\n",
       "    }\n",
       "\n",
       "    .dataframe thead th {\n",
       "        text-align: right;\n",
       "    }\n",
       "</style>\n",
       "<table border=\"1\" class=\"dataframe\">\n",
       "  <thead>\n",
       "    <tr style=\"text-align: right;\">\n",
       "      <th></th>\n",
       "      <th>datetime</th>\n",
       "      <th>road_id</th>\n",
       "      <th>road_km</th>\n",
       "      <th>man_injured_num</th>\n",
       "      <th>man_dead_num</th>\n",
       "      <th>car_damaged_num</th>\n",
       "      <th>lon</th>\n",
       "      <th>lat</th>\n",
       "      <th>target</th>\n",
       "    </tr>\n",
       "  </thead>\n",
       "  <tbody>\n",
       "    <tr>\n",
       "      <th>0</th>\n",
       "      <td>2012-01-01 12:00:00</td>\n",
       "      <td>14</td>\n",
       "      <td>1276</td>\n",
       "      <td>1</td>\n",
       "      <td>0</td>\n",
       "      <td>1.0</td>\n",
       "      <td>33.319</td>\n",
       "      <td>68.212</td>\n",
       "      <td>2</td>\n",
       "    </tr>\n",
       "    <tr>\n",
       "      <th>1</th>\n",
       "      <td>2012-01-01 22:00:00</td>\n",
       "      <td>9</td>\n",
       "      <td>278</td>\n",
       "      <td>2</td>\n",
       "      <td>0</td>\n",
       "      <td>3.0</td>\n",
       "      <td>0.000</td>\n",
       "      <td>0.000</td>\n",
       "      <td>2</td>\n",
       "    </tr>\n",
       "  </tbody>\n",
       "</table>\n",
       "</div>"
      ],
      "text/plain": [
       "             datetime  road_id  road_km  man_injured_num  man_dead_num  \\\n",
       "0 2012-01-01 12:00:00       14     1276                1             0   \n",
       "1 2012-01-01 22:00:00        9      278                2             0   \n",
       "\n",
       "   car_damaged_num     lon     lat  target  \n",
       "0              1.0  33.319  68.212       2  \n",
       "1              3.0   0.000   0.000       2  "
      ]
     },
     "execution_count": 6,
     "metadata": {},
     "output_type": "execute_result"
    }
   ],
   "source": [
    "#df для подсчета статистик\n",
    "df = pd.read_csv('data/train.csv', usecols=[0, 1, 2, 3, 4, 5, 7,8, 10], parse_dates=['datetime'])\n",
    "df = df.sort_values('datetime', ascending=True)\n",
    "df.reset_index(drop=True, inplace=True)\n",
    "df.head(2)"
   ]
  },
  {
   "cell_type": "code",
   "execution_count": 7,
   "metadata": {},
   "outputs": [
    {
     "data": {
      "text/html": [
       "<div>\n",
       "<style scoped>\n",
       "    .dataframe tbody tr th:only-of-type {\n",
       "        vertical-align: middle;\n",
       "    }\n",
       "\n",
       "    .dataframe tbody tr th {\n",
       "        vertical-align: top;\n",
       "    }\n",
       "\n",
       "    .dataframe thead th {\n",
       "        text-align: right;\n",
       "    }\n",
       "</style>\n",
       "<table border=\"1\" class=\"dataframe\">\n",
       "  <thead>\n",
       "    <tr style=\"text-align: right;\">\n",
       "      <th></th>\n",
       "      <th>datetime</th>\n",
       "      <th>road_id</th>\n",
       "      <th>road_km</th>\n",
       "      <th>target</th>\n",
       "    </tr>\n",
       "  </thead>\n",
       "  <tbody>\n",
       "    <tr>\n",
       "      <th>5990</th>\n",
       "      <td>2015-01-01 05:00:00</td>\n",
       "      <td>9</td>\n",
       "      <td>22</td>\n",
       "      <td>1</td>\n",
       "    </tr>\n",
       "    <tr>\n",
       "      <th>5991</th>\n",
       "      <td>2015-01-01 06:00:00</td>\n",
       "      <td>9</td>\n",
       "      <td>22</td>\n",
       "      <td>1</td>\n",
       "    </tr>\n",
       "  </tbody>\n",
       "</table>\n",
       "</div>"
      ],
      "text/plain": [
       "                datetime  road_id  road_km  target\n",
       "5990 2015-01-01 05:00:00        9       22       1\n",
       "5991 2015-01-01 06:00:00        9       22       1"
      ]
     },
     "execution_count": 7,
     "metadata": {},
     "output_type": "execute_result"
    }
   ],
   "source": [
    "# исключение из выборки ЧС и определение временного интервала\n",
    "condition1 = (df[\"target\"]!=3)\n",
    "condition2 = (df['datetime'] > '2015-01-01')\n",
    "condition3 = (df['datetime'] < '2020-12-31')\n",
    "road_train = df[(condition1 & condition2 & condition3)]\n",
    "road_train = road_train[['datetime', 'road_id', 'road_km', 'target']]\n",
    "road_train.head(2)"
   ]
  },
  {
   "cell_type": "code",
   "execution_count": 8,
   "metadata": {},
   "outputs": [
    {
     "data": {
      "text/html": [
       "<div>\n",
       "<style scoped>\n",
       "    .dataframe tbody tr th:only-of-type {\n",
       "        vertical-align: middle;\n",
       "    }\n",
       "\n",
       "    .dataframe tbody tr th {\n",
       "        vertical-align: top;\n",
       "    }\n",
       "\n",
       "    .dataframe thead th {\n",
       "        text-align: right;\n",
       "    }\n",
       "</style>\n",
       "<table border=\"1\" class=\"dataframe\">\n",
       "  <thead>\n",
       "    <tr style=\"text-align: right;\">\n",
       "      <th></th>\n",
       "      <th>datetime</th>\n",
       "      <th>road_id</th>\n",
       "      <th>road_km</th>\n",
       "      <th>target</th>\n",
       "    </tr>\n",
       "  </thead>\n",
       "  <tbody>\n",
       "    <tr>\n",
       "      <th>0</th>\n",
       "      <td>2020-01-01 01:00:00</td>\n",
       "      <td>9</td>\n",
       "      <td>0</td>\n",
       "      <td>NaN</td>\n",
       "    </tr>\n",
       "    <tr>\n",
       "      <th>1</th>\n",
       "      <td>2020-01-01 01:00:00</td>\n",
       "      <td>9</td>\n",
       "      <td>1</td>\n",
       "      <td>NaN</td>\n",
       "    </tr>\n",
       "  </tbody>\n",
       "</table>\n",
       "</div>"
      ],
      "text/plain": [
       "             datetime  road_id  road_km  target\n",
       "0 2020-01-01 01:00:00        9        0     NaN\n",
       "1 2020-01-01 01:00:00        9        1     NaN"
      ]
     },
     "execution_count": 8,
     "metadata": {},
     "output_type": "execute_result"
    }
   ],
   "source": [
    "road_test = pd.read_csv('data/test.csv', parse_dates=['datetime'])\n",
    "road_test.head(2)"
   ]
  },
  {
   "cell_type": "markdown",
   "metadata": {},
   "source": [
    "Информация о трейне и тесте"
   ]
  },
  {
   "cell_type": "code",
   "execution_count": 9,
   "metadata": {},
   "outputs": [
    {
     "data": {
      "text/plain": [
       "1    89112\n",
       "2    23166\n",
       "3       39\n",
       "Name: target, dtype: int64"
      ]
     },
     "execution_count": 9,
     "metadata": {},
     "output_type": "execute_result"
    }
   ],
   "source": [
    "df.target.value_counts()"
   ]
  },
  {
   "cell_type": "code",
   "execution_count": 21,
   "metadata": {},
   "outputs": [
    {
     "data": {
      "text/plain": [
       "5     61126\n",
       "9     34570\n",
       "14    16621\n",
       "Name: road_id, dtype: int64"
      ]
     },
     "execution_count": 21,
     "metadata": {},
     "output_type": "execute_result"
    }
   ],
   "source": [
    "df.road_id.value_counts()"
   ]
  },
  {
   "cell_type": "code",
   "execution_count": 10,
   "metadata": {},
   "outputs": [
    {
     "data": {
      "text/plain": [
       "(1729451, 4)"
      ]
     },
     "execution_count": 10,
     "metadata": {},
     "output_type": "execute_result"
    }
   ],
   "source": [
    "road_test.shape"
   ]
  },
  {
   "cell_type": "markdown",
   "metadata": {},
   "source": [
    "## Добавление данных о трафике"
   ]
  },
  {
   "cell_type": "markdown",
   "metadata": {},
   "source": [
    "Для дальнейшего обучения модели **выберем данные о ДТП по трем трассам**. Рассмотрим ситуацию для значений переменной `target` 1 и 2, исключив ЧС. Выберем период наблюдения с 2019-01-01 по 2020-12-31, заполним промежутки между наблюдениями на всем временном интервале нулевыми значениями с шагом в один час, присвоив значения 0 (событие не является ДТП) переменной `target`, и обогатим исходную выборку переменными из других датасетов."
   ]
  },
  {
   "cell_type": "code",
   "execution_count": 11,
   "metadata": {},
   "outputs": [
    {
     "data": {
      "text/html": [
       "<div>\n",
       "<style scoped>\n",
       "    .dataframe tbody tr th:only-of-type {\n",
       "        vertical-align: middle;\n",
       "    }\n",
       "\n",
       "    .dataframe tbody tr th {\n",
       "        vertical-align: top;\n",
       "    }\n",
       "\n",
       "    .dataframe thead th {\n",
       "        text-align: right;\n",
       "    }\n",
       "</style>\n",
       "<table border=\"1\" class=\"dataframe\">\n",
       "  <thead>\n",
       "    <tr style=\"text-align: right;\">\n",
       "      <th></th>\n",
       "      <th>datetime</th>\n",
       "      <th>road_id</th>\n",
       "      <th>road_km</th>\n",
       "      <th>lane_count</th>\n",
       "      <th>volume</th>\n",
       "      <th>occupancy</th>\n",
       "      <th>speed</th>\n",
       "    </tr>\n",
       "  </thead>\n",
       "  <tbody>\n",
       "    <tr>\n",
       "      <th>0</th>\n",
       "      <td>2016-01-01 01:00:00</td>\n",
       "      <td>9</td>\n",
       "      <td>181</td>\n",
       "      <td>1</td>\n",
       "      <td>74.0</td>\n",
       "      <td>1.0000</td>\n",
       "      <td>67.915</td>\n",
       "    </tr>\n",
       "    <tr>\n",
       "      <th>1</th>\n",
       "      <td>2016-01-01 01:00:00</td>\n",
       "      <td>9</td>\n",
       "      <td>274</td>\n",
       "      <td>2</td>\n",
       "      <td>548.0</td>\n",
       "      <td>2.3075</td>\n",
       "      <td>83.175</td>\n",
       "    </tr>\n",
       "  </tbody>\n",
       "</table>\n",
       "</div>"
      ],
      "text/plain": [
       "             datetime  road_id  road_km  lane_count  volume  occupancy   speed\n",
       "0 2016-01-01 01:00:00        9      181           1    74.0     1.0000  67.915\n",
       "1 2016-01-01 01:00:00        9      274           2   548.0     2.3075  83.175"
      ]
     },
     "execution_count": 11,
     "metadata": {},
     "output_type": "execute_result"
    }
   ],
   "source": [
    "traffic = pd.read_csv('data/traffic.csv', usecols=[0, 1, 2, 7, 9, 10, 11], parse_dates=['datetime'])\n",
    "traffic['datetime'] = traffic['datetime'] + pd.Timedelta(seconds=1) #чтобы мержилось\n",
    "data = traffic.groupby(['datetime', 'road_id', 'road_km']).agg({'lane_count':'max', 'volume':'sum', 'occupancy':'mean', 'speed':'mean'}).reset_index()\n",
    "data.head(2)"
   ]
  },
  {
   "cell_type": "code",
   "execution_count": 14,
   "metadata": {},
   "outputs": [
    {
     "data": {
      "text/html": [
       "<div>\n",
       "<style scoped>\n",
       "    .dataframe tbody tr th:only-of-type {\n",
       "        vertical-align: middle;\n",
       "    }\n",
       "\n",
       "    .dataframe tbody tr th {\n",
       "        vertical-align: top;\n",
       "    }\n",
       "\n",
       "    .dataframe thead th {\n",
       "        text-align: right;\n",
       "    }\n",
       "</style>\n",
       "<table border=\"1\" class=\"dataframe\">\n",
       "  <thead>\n",
       "    <tr style=\"text-align: right;\">\n",
       "      <th></th>\n",
       "      <th>datetime</th>\n",
       "      <th>road_id</th>\n",
       "      <th>road_km</th>\n",
       "      <th>target</th>\n",
       "      <th>lane_count</th>\n",
       "      <th>volume</th>\n",
       "      <th>occupancy</th>\n",
       "      <th>speed</th>\n",
       "      <th>year</th>\n",
       "      <th>week</th>\n",
       "      <th>dayofweek</th>\n",
       "      <th>hour</th>\n",
       "    </tr>\n",
       "  </thead>\n",
       "  <tbody>\n",
       "    <tr>\n",
       "      <th>16992</th>\n",
       "      <td>2016-01-05 09:00:00</td>\n",
       "      <td>9</td>\n",
       "      <td>790</td>\n",
       "      <td>2.0</td>\n",
       "      <td>1.0</td>\n",
       "      <td>588.0</td>\n",
       "      <td>3.8750</td>\n",
       "      <td>80.60</td>\n",
       "      <td>2016</td>\n",
       "      <td>1</td>\n",
       "      <td>1</td>\n",
       "      <td>9</td>\n",
       "    </tr>\n",
       "    <tr>\n",
       "      <th>17127</th>\n",
       "      <td>2016-01-06 14:00:00</td>\n",
       "      <td>9</td>\n",
       "      <td>1151</td>\n",
       "      <td>1.0</td>\n",
       "      <td>2.0</td>\n",
       "      <td>1508.0</td>\n",
       "      <td>6.2525</td>\n",
       "      <td>57.25</td>\n",
       "      <td>2016</td>\n",
       "      <td>1</td>\n",
       "      <td>2</td>\n",
       "      <td>14</td>\n",
       "    </tr>\n",
       "  </tbody>\n",
       "</table>\n",
       "</div>"
      ],
      "text/plain": [
       "                 datetime  road_id  road_km  target  lane_count  volume  \\\n",
       "16992 2016-01-05 09:00:00        9      790     2.0         1.0   588.0   \n",
       "17127 2016-01-06 14:00:00        9     1151     1.0         2.0  1508.0   \n",
       "\n",
       "       occupancy  speed  year  week  dayofweek  hour  \n",
       "16992     3.8750  80.60  2016     1          1     9  \n",
       "17127     6.2525  57.25  2016     1          2    14  "
      ]
     },
     "execution_count": 14,
     "metadata": {},
     "output_type": "execute_result"
    }
   ],
   "source": [
    "# объединение датасета с данными о ДТП с данными о трафике\n",
    "train = pd.merge(road_train, data, how='outer', on=['datetime', 'road_id', 'road_km'])\n",
    "condition1 = (train['target'].isnull()) & (train['volume'].isnull())\n",
    "condition2 = ~(train['target'].isnull()) & (train['volume'].isnull())\n",
    "train = train.drop(train[condition1].index)\n",
    "train = train.drop(train[condition2].index)\n",
    "train = train.fillna(0)\n",
    "train['year'] = [d.year for d in train['datetime']]\n",
    "train['week'] = train['datetime'].dt.isocalendar().week\n",
    "train['week'] = train['week'].astype(\"int8\")\n",
    "train['dayofweek'] = [d.dayofweek for d in train['datetime']]\n",
    "train['hour'] = [d.hour for d in train['datetime']]\n",
    "train.head(2)"
   ]
  },
  {
   "cell_type": "code",
   "execution_count": 15,
   "metadata": {},
   "outputs": [
    {
     "data": {
      "text/html": [
       "<div>\n",
       "<style scoped>\n",
       "    .dataframe tbody tr th:only-of-type {\n",
       "        vertical-align: middle;\n",
       "    }\n",
       "\n",
       "    .dataframe tbody tr th {\n",
       "        vertical-align: top;\n",
       "    }\n",
       "\n",
       "    .dataframe thead th {\n",
       "        text-align: right;\n",
       "    }\n",
       "</style>\n",
       "<table border=\"1\" class=\"dataframe\">\n",
       "  <thead>\n",
       "    <tr style=\"text-align: right;\">\n",
       "      <th></th>\n",
       "      <th>datetime</th>\n",
       "      <th>road_id</th>\n",
       "      <th>road_km</th>\n",
       "      <th>target</th>\n",
       "      <th>lane_count</th>\n",
       "      <th>volume</th>\n",
       "      <th>occupancy</th>\n",
       "      <th>speed</th>\n",
       "      <th>year</th>\n",
       "      <th>week</th>\n",
       "      <th>dayofweek</th>\n",
       "      <th>hour</th>\n",
       "    </tr>\n",
       "  </thead>\n",
       "  <tbody>\n",
       "    <tr>\n",
       "      <th>38</th>\n",
       "      <td>2020-01-01 01:00:00</td>\n",
       "      <td>9</td>\n",
       "      <td>38</td>\n",
       "      <td>NaN</td>\n",
       "      <td>3.0</td>\n",
       "      <td>657.0</td>\n",
       "      <td>4.166667</td>\n",
       "      <td>92.048594</td>\n",
       "      <td>2020</td>\n",
       "      <td>1</td>\n",
       "      <td>2</td>\n",
       "      <td>1</td>\n",
       "    </tr>\n",
       "    <tr>\n",
       "      <th>57</th>\n",
       "      <td>2020-01-01 01:00:00</td>\n",
       "      <td>9</td>\n",
       "      <td>57</td>\n",
       "      <td>NaN</td>\n",
       "      <td>3.0</td>\n",
       "      <td>1073.0</td>\n",
       "      <td>3.348884</td>\n",
       "      <td>74.404866</td>\n",
       "      <td>2020</td>\n",
       "      <td>1</td>\n",
       "      <td>2</td>\n",
       "      <td>1</td>\n",
       "    </tr>\n",
       "  </tbody>\n",
       "</table>\n",
       "</div>"
      ],
      "text/plain": [
       "              datetime  road_id  road_km  target  lane_count  volume  \\\n",
       "38 2020-01-01 01:00:00        9       38     NaN         3.0   657.0   \n",
       "57 2020-01-01 01:00:00        9       57     NaN         3.0  1073.0   \n",
       "\n",
       "    occupancy      speed  year  week  dayofweek  hour  \n",
       "38   4.166667  92.048594  2020     1          2     1  \n",
       "57   3.348884  74.404866  2020     1          2     1  "
      ]
     },
     "execution_count": 15,
     "metadata": {},
     "output_type": "execute_result"
    }
   ],
   "source": [
    "test = pd.merge(road_test, data, how='outer', on=['datetime', 'road_id', 'road_km'])\n",
    "condition1 = (test['target'].isnull()) & (test['volume'].isnull())\n",
    "test = test.drop(test[condition1].index)\n",
    "test['year'] = [d.year for d in test['datetime']]\n",
    "test['week'] = test['datetime'].dt.isocalendar().week\n",
    "test['week'] = test['week'].astype(\"int8\")\n",
    "test['dayofweek'] = [d.dayofweek for d in test['datetime']]\n",
    "test['hour'] = [d.hour for d in test['datetime']]\n",
    "test.head(2)"
   ]
  },
  {
   "cell_type": "markdown",
   "metadata": {},
   "source": [
    "### Добавление статистик"
   ]
  },
  {
   "cell_type": "code",
   "execution_count": 16,
   "metadata": {},
   "outputs": [
    {
     "data": {
      "text/html": [
       "<div>\n",
       "<style scoped>\n",
       "    .dataframe tbody tr th:only-of-type {\n",
       "        vertical-align: middle;\n",
       "    }\n",
       "\n",
       "    .dataframe tbody tr th {\n",
       "        vertical-align: top;\n",
       "    }\n",
       "\n",
       "    .dataframe thead th {\n",
       "        text-align: right;\n",
       "    }\n",
       "</style>\n",
       "<table border=\"1\" class=\"dataframe\">\n",
       "  <thead>\n",
       "    <tr style=\"text-align: right;\">\n",
       "      <th></th>\n",
       "      <th>road_id</th>\n",
       "      <th>road_km</th>\n",
       "      <th>man_injured_h</th>\n",
       "      <th>man_dead_h</th>\n",
       "      <th>car_damaged_h</th>\n",
       "      <th>count_h</th>\n",
       "      <th>target_h</th>\n",
       "    </tr>\n",
       "  </thead>\n",
       "  <tbody>\n",
       "    <tr>\n",
       "      <th>0</th>\n",
       "      <td>5</td>\n",
       "      <td>0</td>\n",
       "      <td>320</td>\n",
       "      <td>29</td>\n",
       "      <td>451.0</td>\n",
       "      <td>262</td>\n",
       "      <td>1.80916</td>\n",
       "    </tr>\n",
       "    <tr>\n",
       "      <th>1</th>\n",
       "      <td>5</td>\n",
       "      <td>1</td>\n",
       "      <td>7</td>\n",
       "      <td>0</td>\n",
       "      <td>42.0</td>\n",
       "      <td>25</td>\n",
       "      <td>1.16000</td>\n",
       "    </tr>\n",
       "  </tbody>\n",
       "</table>\n",
       "</div>"
      ],
      "text/plain": [
       "   road_id  road_km  man_injured_h  man_dead_h  car_damaged_h  count_h  \\\n",
       "0        5        0            320          29          451.0      262   \n",
       "1        5        1              7           0           42.0       25   \n",
       "\n",
       "   target_h  \n",
       "0   1.80916  \n",
       "1   1.16000  "
      ]
     },
     "execution_count": 16,
     "metadata": {},
     "output_type": "execute_result"
    }
   ],
   "source": [
    "#аварийность участка\n",
    "history = df.groupby(['road_id', 'road_km']).agg({'man_injured_num':'sum', 'man_dead_num':'sum', 'car_damaged_num':'sum', 'datetime':'count', 'target':'mean'}).reset_index()\n",
    "history.rename(columns={'man_injured_num': 'man_injured_h', 'man_dead_num': 'man_dead_h','car_damaged_num': 'car_damaged_h','datetime': 'count_h','target': 'target_h',}, inplace=True)\n",
    "history.head(2)"
   ]
  },
  {
   "cell_type": "code",
   "execution_count": 17,
   "metadata": {},
   "outputs": [
    {
     "data": {
      "text/html": [
       "<div>\n",
       "<style scoped>\n",
       "    .dataframe tbody tr th:only-of-type {\n",
       "        vertical-align: middle;\n",
       "    }\n",
       "\n",
       "    .dataframe tbody tr th {\n",
       "        vertical-align: top;\n",
       "    }\n",
       "\n",
       "    .dataframe thead th {\n",
       "        text-align: right;\n",
       "    }\n",
       "</style>\n",
       "<table border=\"1\" class=\"dataframe\">\n",
       "  <thead>\n",
       "    <tr style=\"text-align: right;\">\n",
       "      <th></th>\n",
       "      <th>datetime</th>\n",
       "      <th>road_id</th>\n",
       "      <th>road_km</th>\n",
       "      <th>target</th>\n",
       "      <th>lane_count</th>\n",
       "      <th>volume</th>\n",
       "      <th>occupancy</th>\n",
       "      <th>speed</th>\n",
       "      <th>year</th>\n",
       "      <th>week</th>\n",
       "      <th>dayofweek</th>\n",
       "      <th>hour</th>\n",
       "      <th>man_injured_h</th>\n",
       "      <th>man_dead_h</th>\n",
       "      <th>car_damaged_h</th>\n",
       "      <th>count_h</th>\n",
       "      <th>target_h</th>\n",
       "    </tr>\n",
       "  </thead>\n",
       "  <tbody>\n",
       "    <tr>\n",
       "      <th>0</th>\n",
       "      <td>2020-01-01 01:00:00</td>\n",
       "      <td>9</td>\n",
       "      <td>38</td>\n",
       "      <td>NaN</td>\n",
       "      <td>3.0</td>\n",
       "      <td>657.0</td>\n",
       "      <td>4.166667</td>\n",
       "      <td>92.048594</td>\n",
       "      <td>2020</td>\n",
       "      <td>1</td>\n",
       "      <td>2</td>\n",
       "      <td>1</td>\n",
       "      <td>22</td>\n",
       "      <td>1</td>\n",
       "      <td>365.0</td>\n",
       "      <td>202</td>\n",
       "      <td>1.099010</td>\n",
       "    </tr>\n",
       "    <tr>\n",
       "      <th>1</th>\n",
       "      <td>2020-01-01 01:00:00</td>\n",
       "      <td>9</td>\n",
       "      <td>57</td>\n",
       "      <td>NaN</td>\n",
       "      <td>3.0</td>\n",
       "      <td>1073.0</td>\n",
       "      <td>3.348884</td>\n",
       "      <td>74.404866</td>\n",
       "      <td>2020</td>\n",
       "      <td>1</td>\n",
       "      <td>2</td>\n",
       "      <td>1</td>\n",
       "      <td>19</td>\n",
       "      <td>2</td>\n",
       "      <td>191.0</td>\n",
       "      <td>113</td>\n",
       "      <td>1.097345</td>\n",
       "    </tr>\n",
       "  </tbody>\n",
       "</table>\n",
       "</div>"
      ],
      "text/plain": [
       "             datetime  road_id  road_km  target  lane_count  volume  \\\n",
       "0 2020-01-01 01:00:00        9       38     NaN         3.0   657.0   \n",
       "1 2020-01-01 01:00:00        9       57     NaN         3.0  1073.0   \n",
       "\n",
       "   occupancy      speed  year  week  dayofweek  hour  man_injured_h  \\\n",
       "0   4.166667  92.048594  2020     1          2     1             22   \n",
       "1   3.348884  74.404866  2020     1          2     1             19   \n",
       "\n",
       "   man_dead_h  car_damaged_h  count_h  target_h  \n",
       "0           1          365.0      202  1.099010  \n",
       "1           2          191.0      113  1.097345  "
      ]
     },
     "execution_count": 17,
     "metadata": {},
     "output_type": "execute_result"
    }
   ],
   "source": [
    "train = pd.merge(train, history, how='left', on=['road_id', 'road_km'])\n",
    "test = pd.merge(test, history, how='left', on=['road_id', 'road_km'])\n",
    "test.head(2)"
   ]
  },
  {
   "cell_type": "markdown",
   "metadata": {},
   "source": [
    "В среднем по временным интервалам"
   ]
  },
  {
   "cell_type": "code",
   "execution_count": 18,
   "metadata": {},
   "outputs": [],
   "source": [
    "#df['year'] = [d.year for d in df['datetime']]\n",
    "#df['month'] = [d.month for d in df['datetime']]\n",
    "#df['day'] = [d.day for d in df['datetime']]\n",
    "df['week'] = df['datetime'].dt.isocalendar().week\n",
    "df['week'] = df['week'].astype(\"int8\")\n",
    "df['dayofweek'] = [d.dayofweek for d in df['datetime']]\n",
    "df['hour'] = [d.hour for d in df['datetime']]"
   ]
  },
  {
   "cell_type": "code",
   "execution_count": 19,
   "metadata": {},
   "outputs": [
    {
     "data": {
      "text/html": [
       "<div>\n",
       "<style scoped>\n",
       "    .dataframe tbody tr th:only-of-type {\n",
       "        vertical-align: middle;\n",
       "    }\n",
       "\n",
       "    .dataframe tbody tr th {\n",
       "        vertical-align: top;\n",
       "    }\n",
       "\n",
       "    .dataframe thead th {\n",
       "        text-align: right;\n",
       "    }\n",
       "</style>\n",
       "<table border=\"1\" class=\"dataframe\">\n",
       "  <thead>\n",
       "    <tr style=\"text-align: right;\">\n",
       "      <th></th>\n",
       "      <th>road_id</th>\n",
       "      <th>road_km</th>\n",
       "      <th>week</th>\n",
       "      <th>count_week</th>\n",
       "      <th>target_week</th>\n",
       "    </tr>\n",
       "  </thead>\n",
       "  <tbody>\n",
       "    <tr>\n",
       "      <th>0</th>\n",
       "      <td>5</td>\n",
       "      <td>0</td>\n",
       "      <td>1</td>\n",
       "      <td>4</td>\n",
       "      <td>2.000000</td>\n",
       "    </tr>\n",
       "    <tr>\n",
       "      <th>1</th>\n",
       "      <td>5</td>\n",
       "      <td>0</td>\n",
       "      <td>2</td>\n",
       "      <td>3</td>\n",
       "      <td>1.333333</td>\n",
       "    </tr>\n",
       "  </tbody>\n",
       "</table>\n",
       "</div>"
      ],
      "text/plain": [
       "   road_id  road_km  week  count_week  target_week\n",
       "0        5        0     1           4     2.000000\n",
       "1        5        0     2           3     1.333333"
      ]
     },
     "execution_count": 19,
     "metadata": {},
     "output_type": "execute_result"
    }
   ],
   "source": [
    "dtp_week = df.groupby(['road_id', 'road_km', 'week']).agg({'datetime':'count', 'target':'mean'}).reset_index()\n",
    "dtp_week.rename(columns={'datetime': 'count_week','target': 'target_week',}, inplace=True)\n",
    "dtp_week.head(2)"
   ]
  },
  {
   "cell_type": "code",
   "execution_count": 20,
   "metadata": {},
   "outputs": [
    {
     "data": {
      "text/html": [
       "<div>\n",
       "<style scoped>\n",
       "    .dataframe tbody tr th:only-of-type {\n",
       "        vertical-align: middle;\n",
       "    }\n",
       "\n",
       "    .dataframe tbody tr th {\n",
       "        vertical-align: top;\n",
       "    }\n",
       "\n",
       "    .dataframe thead th {\n",
       "        text-align: right;\n",
       "    }\n",
       "</style>\n",
       "<table border=\"1\" class=\"dataframe\">\n",
       "  <thead>\n",
       "    <tr style=\"text-align: right;\">\n",
       "      <th></th>\n",
       "      <th>road_id</th>\n",
       "      <th>road_km</th>\n",
       "      <th>dayofweek</th>\n",
       "      <th>count_dayofweek</th>\n",
       "      <th>target_dayofweek</th>\n",
       "    </tr>\n",
       "  </thead>\n",
       "  <tbody>\n",
       "    <tr>\n",
       "      <th>0</th>\n",
       "      <td>5</td>\n",
       "      <td>0</td>\n",
       "      <td>0</td>\n",
       "      <td>31</td>\n",
       "      <td>1.677419</td>\n",
       "    </tr>\n",
       "    <tr>\n",
       "      <th>1</th>\n",
       "      <td>5</td>\n",
       "      <td>0</td>\n",
       "      <td>1</td>\n",
       "      <td>29</td>\n",
       "      <td>1.896552</td>\n",
       "    </tr>\n",
       "  </tbody>\n",
       "</table>\n",
       "</div>"
      ],
      "text/plain": [
       "   road_id  road_km  dayofweek  count_dayofweek  target_dayofweek\n",
       "0        5        0          0               31          1.677419\n",
       "1        5        0          1               29          1.896552"
      ]
     },
     "execution_count": 20,
     "metadata": {},
     "output_type": "execute_result"
    }
   ],
   "source": [
    "dtp_dayofweek = df.groupby(['road_id', 'road_km', 'dayofweek']).agg({'datetime':'count', 'target':'mean'}).reset_index()\n",
    "dtp_dayofweek.rename(columns={'datetime': 'count_dayofweek','target': 'target_dayofweek',}, inplace=True)\n",
    "dtp_dayofweek.head(2)"
   ]
  },
  {
   "cell_type": "code",
   "execution_count": 21,
   "metadata": {},
   "outputs": [
    {
     "data": {
      "text/html": [
       "<div>\n",
       "<style scoped>\n",
       "    .dataframe tbody tr th:only-of-type {\n",
       "        vertical-align: middle;\n",
       "    }\n",
       "\n",
       "    .dataframe tbody tr th {\n",
       "        vertical-align: top;\n",
       "    }\n",
       "\n",
       "    .dataframe thead th {\n",
       "        text-align: right;\n",
       "    }\n",
       "</style>\n",
       "<table border=\"1\" class=\"dataframe\">\n",
       "  <thead>\n",
       "    <tr style=\"text-align: right;\">\n",
       "      <th></th>\n",
       "      <th>road_id</th>\n",
       "      <th>road_km</th>\n",
       "      <th>hour</th>\n",
       "      <th>count_hour</th>\n",
       "      <th>target_hour</th>\n",
       "    </tr>\n",
       "  </thead>\n",
       "  <tbody>\n",
       "    <tr>\n",
       "      <th>0</th>\n",
       "      <td>5</td>\n",
       "      <td>0</td>\n",
       "      <td>0</td>\n",
       "      <td>16</td>\n",
       "      <td>1.8125</td>\n",
       "    </tr>\n",
       "    <tr>\n",
       "      <th>1</th>\n",
       "      <td>5</td>\n",
       "      <td>0</td>\n",
       "      <td>1</td>\n",
       "      <td>4</td>\n",
       "      <td>2.0000</td>\n",
       "    </tr>\n",
       "  </tbody>\n",
       "</table>\n",
       "</div>"
      ],
      "text/plain": [
       "   road_id  road_km  hour  count_hour  target_hour\n",
       "0        5        0     0          16       1.8125\n",
       "1        5        0     1           4       2.0000"
      ]
     },
     "execution_count": 21,
     "metadata": {},
     "output_type": "execute_result"
    }
   ],
   "source": [
    "dtp_hour = df.groupby(['road_id', 'road_km', 'hour']).agg({'datetime':'count', 'target':'mean'}).reset_index()\n",
    "dtp_hour.rename(columns={'datetime': 'count_hour','target': 'target_hour',}, inplace=True)\n",
    "dtp_hour.head(2)"
   ]
  },
  {
   "cell_type": "code",
   "execution_count": 22,
   "metadata": {},
   "outputs": [
    {
     "data": {
      "text/html": [
       "<div>\n",
       "<style scoped>\n",
       "    .dataframe tbody tr th:only-of-type {\n",
       "        vertical-align: middle;\n",
       "    }\n",
       "\n",
       "    .dataframe tbody tr th {\n",
       "        vertical-align: top;\n",
       "    }\n",
       "\n",
       "    .dataframe thead th {\n",
       "        text-align: right;\n",
       "    }\n",
       "</style>\n",
       "<table border=\"1\" class=\"dataframe\">\n",
       "  <thead>\n",
       "    <tr style=\"text-align: right;\">\n",
       "      <th></th>\n",
       "      <th>datetime</th>\n",
       "      <th>road_id</th>\n",
       "      <th>road_km</th>\n",
       "      <th>target</th>\n",
       "      <th>lane_count</th>\n",
       "      <th>volume</th>\n",
       "      <th>occupancy</th>\n",
       "      <th>speed</th>\n",
       "      <th>year</th>\n",
       "      <th>week</th>\n",
       "      <th>dayofweek</th>\n",
       "      <th>hour</th>\n",
       "      <th>man_injured_h</th>\n",
       "      <th>man_dead_h</th>\n",
       "      <th>car_damaged_h</th>\n",
       "      <th>count_h</th>\n",
       "      <th>target_h</th>\n",
       "      <th>count_week</th>\n",
       "      <th>target_week</th>\n",
       "      <th>count_dayofweek</th>\n",
       "      <th>target_dayofweek</th>\n",
       "      <th>count_hour</th>\n",
       "      <th>target_hour</th>\n",
       "    </tr>\n",
       "  </thead>\n",
       "  <tbody>\n",
       "    <tr>\n",
       "      <th>0</th>\n",
       "      <td>2016-01-05 09:00:00</td>\n",
       "      <td>9</td>\n",
       "      <td>790</td>\n",
       "      <td>2.0</td>\n",
       "      <td>1.0</td>\n",
       "      <td>588.0</td>\n",
       "      <td>3.8750</td>\n",
       "      <td>80.60</td>\n",
       "      <td>2016</td>\n",
       "      <td>1</td>\n",
       "      <td>1</td>\n",
       "      <td>9</td>\n",
       "      <td>4</td>\n",
       "      <td>0</td>\n",
       "      <td>34.0</td>\n",
       "      <td>18</td>\n",
       "      <td>1.111111</td>\n",
       "      <td>1.0</td>\n",
       "      <td>2.0</td>\n",
       "      <td>6.0</td>\n",
       "      <td>1.333333</td>\n",
       "      <td>3.0</td>\n",
       "      <td>1.333333</td>\n",
       "    </tr>\n",
       "    <tr>\n",
       "      <th>1</th>\n",
       "      <td>2016-01-06 14:00:00</td>\n",
       "      <td>9</td>\n",
       "      <td>1151</td>\n",
       "      <td>1.0</td>\n",
       "      <td>2.0</td>\n",
       "      <td>1508.0</td>\n",
       "      <td>6.2525</td>\n",
       "      <td>57.25</td>\n",
       "      <td>2016</td>\n",
       "      <td>1</td>\n",
       "      <td>2</td>\n",
       "      <td>14</td>\n",
       "      <td>6</td>\n",
       "      <td>0</td>\n",
       "      <td>39.0</td>\n",
       "      <td>22</td>\n",
       "      <td>1.136364</td>\n",
       "      <td>1.0</td>\n",
       "      <td>1.0</td>\n",
       "      <td>4.0</td>\n",
       "      <td>1.250000</td>\n",
       "      <td>2.0</td>\n",
       "      <td>1.000000</td>\n",
       "    </tr>\n",
       "  </tbody>\n",
       "</table>\n",
       "</div>"
      ],
      "text/plain": [
       "             datetime  road_id  road_km  target  lane_count  volume  \\\n",
       "0 2016-01-05 09:00:00        9      790     2.0         1.0   588.0   \n",
       "1 2016-01-06 14:00:00        9     1151     1.0         2.0  1508.0   \n",
       "\n",
       "   occupancy  speed  year  week  dayofweek  hour  man_injured_h  man_dead_h  \\\n",
       "0     3.8750  80.60  2016     1          1     9              4           0   \n",
       "1     6.2525  57.25  2016     1          2    14              6           0   \n",
       "\n",
       "   car_damaged_h  count_h  target_h  count_week  target_week  count_dayofweek  \\\n",
       "0           34.0       18  1.111111         1.0          2.0              6.0   \n",
       "1           39.0       22  1.136364         1.0          1.0              4.0   \n",
       "\n",
       "   target_dayofweek  count_hour  target_hour  \n",
       "0          1.333333         3.0     1.333333  \n",
       "1          1.250000         2.0     1.000000  "
      ]
     },
     "execution_count": 22,
     "metadata": {},
     "output_type": "execute_result"
    }
   ],
   "source": [
    "train = pd.merge(train, dtp_week, how='left', on=['road_id', 'road_km', 'week'])\n",
    "train = pd.merge(train, dtp_dayofweek, how='left', on=['road_id', 'road_km', 'dayofweek'])\n",
    "train = pd.merge(train, dtp_hour, how='left', on=['road_id', 'road_km', 'hour'])\n",
    "train.head(2)"
   ]
  },
  {
   "cell_type": "code",
   "execution_count": 23,
   "metadata": {},
   "outputs": [
    {
     "data": {
      "text/html": [
       "<div>\n",
       "<style scoped>\n",
       "    .dataframe tbody tr th:only-of-type {\n",
       "        vertical-align: middle;\n",
       "    }\n",
       "\n",
       "    .dataframe tbody tr th {\n",
       "        vertical-align: top;\n",
       "    }\n",
       "\n",
       "    .dataframe thead th {\n",
       "        text-align: right;\n",
       "    }\n",
       "</style>\n",
       "<table border=\"1\" class=\"dataframe\">\n",
       "  <thead>\n",
       "    <tr style=\"text-align: right;\">\n",
       "      <th></th>\n",
       "      <th>datetime</th>\n",
       "      <th>road_id</th>\n",
       "      <th>road_km</th>\n",
       "      <th>target</th>\n",
       "      <th>lane_count</th>\n",
       "      <th>volume</th>\n",
       "      <th>occupancy</th>\n",
       "      <th>speed</th>\n",
       "      <th>year</th>\n",
       "      <th>week</th>\n",
       "      <th>dayofweek</th>\n",
       "      <th>hour</th>\n",
       "      <th>man_injured_h</th>\n",
       "      <th>man_dead_h</th>\n",
       "      <th>car_damaged_h</th>\n",
       "      <th>count_h</th>\n",
       "      <th>target_h</th>\n",
       "      <th>count_week</th>\n",
       "      <th>target_week</th>\n",
       "      <th>count_dayofweek</th>\n",
       "      <th>target_dayofweek</th>\n",
       "      <th>count_hour</th>\n",
       "      <th>target_hour</th>\n",
       "    </tr>\n",
       "  </thead>\n",
       "  <tbody>\n",
       "    <tr>\n",
       "      <th>0</th>\n",
       "      <td>2020-01-01 01:00:00</td>\n",
       "      <td>9</td>\n",
       "      <td>38</td>\n",
       "      <td>NaN</td>\n",
       "      <td>3.0</td>\n",
       "      <td>657.0</td>\n",
       "      <td>4.166667</td>\n",
       "      <td>92.048594</td>\n",
       "      <td>2020</td>\n",
       "      <td>1</td>\n",
       "      <td>2</td>\n",
       "      <td>1</td>\n",
       "      <td>22</td>\n",
       "      <td>1</td>\n",
       "      <td>365.0</td>\n",
       "      <td>202</td>\n",
       "      <td>1.099010</td>\n",
       "      <td>1.0</td>\n",
       "      <td>1.0</td>\n",
       "      <td>29.0</td>\n",
       "      <td>1.103448</td>\n",
       "      <td>2.0</td>\n",
       "      <td>1.0</td>\n",
       "    </tr>\n",
       "    <tr>\n",
       "      <th>1</th>\n",
       "      <td>2020-01-01 01:00:00</td>\n",
       "      <td>9</td>\n",
       "      <td>57</td>\n",
       "      <td>NaN</td>\n",
       "      <td>3.0</td>\n",
       "      <td>1073.0</td>\n",
       "      <td>3.348884</td>\n",
       "      <td>74.404866</td>\n",
       "      <td>2020</td>\n",
       "      <td>1</td>\n",
       "      <td>2</td>\n",
       "      <td>1</td>\n",
       "      <td>19</td>\n",
       "      <td>2</td>\n",
       "      <td>191.0</td>\n",
       "      <td>113</td>\n",
       "      <td>1.097345</td>\n",
       "      <td>2.0</td>\n",
       "      <td>1.0</td>\n",
       "      <td>16.0</td>\n",
       "      <td>1.312500</td>\n",
       "      <td>3.0</td>\n",
       "      <td>1.0</td>\n",
       "    </tr>\n",
       "  </tbody>\n",
       "</table>\n",
       "</div>"
      ],
      "text/plain": [
       "             datetime  road_id  road_km  target  lane_count  volume  \\\n",
       "0 2020-01-01 01:00:00        9       38     NaN         3.0   657.0   \n",
       "1 2020-01-01 01:00:00        9       57     NaN         3.0  1073.0   \n",
       "\n",
       "   occupancy      speed  year  week  dayofweek  hour  man_injured_h  \\\n",
       "0   4.166667  92.048594  2020     1          2     1             22   \n",
       "1   3.348884  74.404866  2020     1          2     1             19   \n",
       "\n",
       "   man_dead_h  car_damaged_h  count_h  target_h  count_week  target_week  \\\n",
       "0           1          365.0      202  1.099010         1.0          1.0   \n",
       "1           2          191.0      113  1.097345         2.0          1.0   \n",
       "\n",
       "   count_dayofweek  target_dayofweek  count_hour  target_hour  \n",
       "0             29.0          1.103448         2.0          1.0  \n",
       "1             16.0          1.312500         3.0          1.0  "
      ]
     },
     "execution_count": 23,
     "metadata": {},
     "output_type": "execute_result"
    }
   ],
   "source": [
    "test = pd.merge(test, dtp_week, how='left', on=['road_id', 'road_km', 'week'])\n",
    "test = pd.merge(test, dtp_dayofweek, how='left', on=['road_id', 'road_km', 'dayofweek'])\n",
    "test = pd.merge(test, dtp_hour, how='left', on=['road_id', 'road_km', 'hour'])\n",
    "test.head(2)"
   ]
  },
  {
   "cell_type": "markdown",
   "metadata": {},
   "source": [
    "Дорога М-4 (5) не используется"
   ]
  },
  {
   "cell_type": "markdown",
   "metadata": {},
   "source": [
    "## Аварийность и ремонт"
   ]
  },
  {
   "cell_type": "code",
   "execution_count": 24,
   "metadata": {},
   "outputs": [
    {
     "data": {
      "text/html": [
       "<div>\n",
       "<style scoped>\n",
       "    .dataframe tbody tr th:only-of-type {\n",
       "        vertical-align: middle;\n",
       "    }\n",
       "\n",
       "    .dataframe tbody tr th {\n",
       "        vertical-align: top;\n",
       "    }\n",
       "\n",
       "    .dataframe thead th {\n",
       "        text-align: right;\n",
       "    }\n",
       "</style>\n",
       "<table border=\"1\" class=\"dataframe\">\n",
       "  <thead>\n",
       "    <tr style=\"text-align: right;\">\n",
       "      <th></th>\n",
       "      <th>datetime</th>\n",
       "      <th>road_id</th>\n",
       "      <th>road_km</th>\n",
       "      <th>length</th>\n",
       "      <th>year</th>\n",
       "    </tr>\n",
       "  </thead>\n",
       "  <tbody>\n",
       "    <tr>\n",
       "      <th>0</th>\n",
       "      <td>2015-01-01</td>\n",
       "      <td>9</td>\n",
       "      <td>848</td>\n",
       "      <td>48.48</td>\n",
       "      <td>2015</td>\n",
       "    </tr>\n",
       "    <tr>\n",
       "      <th>1</th>\n",
       "      <td>2015-01-01</td>\n",
       "      <td>9</td>\n",
       "      <td>57</td>\n",
       "      <td>0.00</td>\n",
       "      <td>2015</td>\n",
       "    </tr>\n",
       "  </tbody>\n",
       "</table>\n",
       "</div>"
      ],
      "text/plain": [
       "    datetime  road_id  road_km  length  year\n",
       "0 2015-01-01        9      848   48.48  2015\n",
       "1 2015-01-01        9       57    0.00  2015"
      ]
     },
     "execution_count": 24,
     "metadata": {},
     "output_type": "execute_result"
    }
   ],
   "source": [
    "repair = pd.read_csv('data/repair.csv', parse_dates=['datetime'])[['datetime', 'road_id', 'road_km', 'length']]\n",
    "repair['year'] = [d.year for d in repair['datetime']]\n",
    "repair.head(2)"
   ]
  },
  {
   "cell_type": "code",
   "execution_count": 25,
   "metadata": {},
   "outputs": [
    {
     "data": {
      "text/html": [
       "<div>\n",
       "<style scoped>\n",
       "    .dataframe tbody tr th:only-of-type {\n",
       "        vertical-align: middle;\n",
       "    }\n",
       "\n",
       "    .dataframe tbody tr th {\n",
       "        vertical-align: top;\n",
       "    }\n",
       "\n",
       "    .dataframe thead th {\n",
       "        text-align: right;\n",
       "    }\n",
       "</style>\n",
       "<table border=\"1\" class=\"dataframe\">\n",
       "  <thead>\n",
       "    <tr style=\"text-align: right;\">\n",
       "      <th></th>\n",
       "      <th>datetime</th>\n",
       "      <th>road_id</th>\n",
       "      <th>road_km</th>\n",
       "      <th>avuch_loc</th>\n",
       "      <th>stabchar_type</th>\n",
       "      <th>crash_length</th>\n",
       "      <th>year</th>\n",
       "    </tr>\n",
       "  </thead>\n",
       "  <tbody>\n",
       "    <tr>\n",
       "      <th>0</th>\n",
       "      <td>2017-01-01</td>\n",
       "      <td>9</td>\n",
       "      <td>124</td>\n",
       "      <td>2</td>\n",
       "      <td>3</td>\n",
       "      <td>970</td>\n",
       "      <td>2017</td>\n",
       "    </tr>\n",
       "    <tr>\n",
       "      <th>1</th>\n",
       "      <td>2017-01-01</td>\n",
       "      <td>9</td>\n",
       "      <td>125</td>\n",
       "      <td>2</td>\n",
       "      <td>3</td>\n",
       "      <td>970</td>\n",
       "      <td>2017</td>\n",
       "    </tr>\n",
       "  </tbody>\n",
       "</table>\n",
       "</div>"
      ],
      "text/plain": [
       "    datetime  road_id  road_km  avuch_loc  stabchar_type  crash_length  year\n",
       "0 2017-01-01        9      124          2              3           970  2017\n",
       "1 2017-01-01        9      125          2              3           970  2017"
      ]
     },
     "execution_count": 25,
     "metadata": {},
     "output_type": "execute_result"
    }
   ],
   "source": [
    "crash_col = ['datetime', 'road_id', 'road_km', 'avuch_loc', 'stabchar_type', 'length']\n",
    "crash_parts = pd.read_csv('data/crash_parts.csv', parse_dates=['datetime'], index_col=0)[crash_col]\n",
    "crash_parts.rename(columns={'length': 'crash_length',}, inplace=True)\n",
    "crash_parts['year'] = [d.year for d in crash_parts['datetime']]\n",
    "crash_parts.head(2)"
   ]
  },
  {
   "cell_type": "code",
   "execution_count": 28,
   "metadata": {},
   "outputs": [
    {
     "data": {
      "text/html": [
       "<div>\n",
       "<style scoped>\n",
       "    .dataframe tbody tr th:only-of-type {\n",
       "        vertical-align: middle;\n",
       "    }\n",
       "\n",
       "    .dataframe tbody tr th {\n",
       "        vertical-align: top;\n",
       "    }\n",
       "\n",
       "    .dataframe thead th {\n",
       "        text-align: right;\n",
       "    }\n",
       "</style>\n",
       "<table border=\"1\" class=\"dataframe\">\n",
       "  <thead>\n",
       "    <tr style=\"text-align: right;\">\n",
       "      <th></th>\n",
       "      <th>datetime</th>\n",
       "      <th>road_id</th>\n",
       "      <th>road_km</th>\n",
       "      <th>target</th>\n",
       "      <th>lane_count</th>\n",
       "      <th>volume</th>\n",
       "      <th>occupancy</th>\n",
       "      <th>speed</th>\n",
       "      <th>year</th>\n",
       "      <th>week</th>\n",
       "      <th>dayofweek</th>\n",
       "      <th>hour</th>\n",
       "      <th>man_injured_h</th>\n",
       "      <th>man_dead_h</th>\n",
       "      <th>car_damaged_h</th>\n",
       "      <th>count_h</th>\n",
       "      <th>target_h</th>\n",
       "      <th>count_week</th>\n",
       "      <th>target_week</th>\n",
       "      <th>count_dayofweek</th>\n",
       "      <th>target_dayofweek</th>\n",
       "      <th>count_hour</th>\n",
       "      <th>target_hour</th>\n",
       "      <th>length</th>\n",
       "      <th>avuch_loc</th>\n",
       "      <th>stabchar_type</th>\n",
       "      <th>crash_length</th>\n",
       "    </tr>\n",
       "  </thead>\n",
       "  <tbody>\n",
       "    <tr>\n",
       "      <th>0</th>\n",
       "      <td>2016-01-05 09:00:00</td>\n",
       "      <td>9</td>\n",
       "      <td>790</td>\n",
       "      <td>2.0</td>\n",
       "      <td>1.0</td>\n",
       "      <td>588.0</td>\n",
       "      <td>3.8750</td>\n",
       "      <td>80.60</td>\n",
       "      <td>2016</td>\n",
       "      <td>1</td>\n",
       "      <td>1</td>\n",
       "      <td>9</td>\n",
       "      <td>4</td>\n",
       "      <td>0</td>\n",
       "      <td>34.0</td>\n",
       "      <td>18</td>\n",
       "      <td>1.111111</td>\n",
       "      <td>1.0</td>\n",
       "      <td>2.0</td>\n",
       "      <td>6.0</td>\n",
       "      <td>1.333333</td>\n",
       "      <td>3.0</td>\n",
       "      <td>1.333333</td>\n",
       "      <td>NaN</td>\n",
       "      <td>NaN</td>\n",
       "      <td>NaN</td>\n",
       "      <td>NaN</td>\n",
       "    </tr>\n",
       "    <tr>\n",
       "      <th>1</th>\n",
       "      <td>2016-01-06 14:00:00</td>\n",
       "      <td>9</td>\n",
       "      <td>1151</td>\n",
       "      <td>1.0</td>\n",
       "      <td>2.0</td>\n",
       "      <td>1508.0</td>\n",
       "      <td>6.2525</td>\n",
       "      <td>57.25</td>\n",
       "      <td>2016</td>\n",
       "      <td>1</td>\n",
       "      <td>2</td>\n",
       "      <td>14</td>\n",
       "      <td>6</td>\n",
       "      <td>0</td>\n",
       "      <td>39.0</td>\n",
       "      <td>22</td>\n",
       "      <td>1.136364</td>\n",
       "      <td>1.0</td>\n",
       "      <td>1.0</td>\n",
       "      <td>4.0</td>\n",
       "      <td>1.250000</td>\n",
       "      <td>2.0</td>\n",
       "      <td>1.000000</td>\n",
       "      <td>NaN</td>\n",
       "      <td>NaN</td>\n",
       "      <td>NaN</td>\n",
       "      <td>NaN</td>\n",
       "    </tr>\n",
       "  </tbody>\n",
       "</table>\n",
       "</div>"
      ],
      "text/plain": [
       "             datetime  road_id  road_km  target  lane_count  volume  \\\n",
       "0 2016-01-05 09:00:00        9      790     2.0         1.0   588.0   \n",
       "1 2016-01-06 14:00:00        9     1151     1.0         2.0  1508.0   \n",
       "\n",
       "   occupancy  speed  year  week  dayofweek  hour  man_injured_h  man_dead_h  \\\n",
       "0     3.8750  80.60  2016     1          1     9              4           0   \n",
       "1     6.2525  57.25  2016     1          2    14              6           0   \n",
       "\n",
       "   car_damaged_h  count_h  target_h  count_week  target_week  count_dayofweek  \\\n",
       "0           34.0       18  1.111111         1.0          2.0              6.0   \n",
       "1           39.0       22  1.136364         1.0          1.0              4.0   \n",
       "\n",
       "   target_dayofweek  count_hour  target_hour  length  avuch_loc  \\\n",
       "0          1.333333         3.0     1.333333     NaN        NaN   \n",
       "1          1.250000         2.0     1.000000     NaN        NaN   \n",
       "\n",
       "   stabchar_type  crash_length  \n",
       "0            NaN           NaN  \n",
       "1            NaN           NaN  "
      ]
     },
     "execution_count": 28,
     "metadata": {},
     "output_type": "execute_result"
    }
   ],
   "source": [
    "train = pd.merge(train, repair[['year', 'road_id', 'road_km', 'length']], how='left', on=['road_id', 'road_km', 'year'])\n",
    "train = pd.merge(train, crash_parts[['road_id', 'road_km', 'avuch_loc', 'stabchar_type', 'crash_length', 'year']], how='left', on=['road_id', 'road_km', 'year'])\n",
    "train.head(2)"
   ]
  },
  {
   "cell_type": "code",
   "execution_count": 27,
   "metadata": {},
   "outputs": [],
   "source": [
    "test = pd.merge(test, repair[['year', 'road_id', 'road_km', 'length']], how='left', on=['road_id', 'road_km', 'year'])\n",
    "test = pd.merge(test, crash_parts[['road_id', 'road_km', 'avuch_loc', 'stabchar_type', 'crash_length', 'year']], how='left', on=['road_id', 'road_km', 'year'])"
   ]
  },
  {
   "cell_type": "markdown",
   "metadata": {},
   "source": [
    "### Метеостанции"
   ]
  },
  {
   "cell_type": "code",
   "execution_count": 29,
   "metadata": {},
   "outputs": [
    {
     "data": {
      "text/html": [
       "<div>\n",
       "<style scoped>\n",
       "    .dataframe tbody tr th:only-of-type {\n",
       "        vertical-align: middle;\n",
       "    }\n",
       "\n",
       "    .dataframe tbody tr th {\n",
       "        vertical-align: top;\n",
       "    }\n",
       "\n",
       "    .dataframe thead th {\n",
       "        text-align: right;\n",
       "    }\n",
       "</style>\n",
       "<table border=\"1\" class=\"dataframe\">\n",
       "  <thead>\n",
       "    <tr style=\"text-align: right;\">\n",
       "      <th></th>\n",
       "      <th>road_id</th>\n",
       "      <th>road_km</th>\n",
       "      <th>lat_long</th>\n",
       "      <th>station</th>\n",
       "    </tr>\n",
       "  </thead>\n",
       "  <tbody>\n",
       "    <tr>\n",
       "      <th>0</th>\n",
       "      <td>9</td>\n",
       "      <td>0</td>\n",
       "      <td>(55.76, 37.61)</td>\n",
       "      <td>MOSKMIH</td>\n",
       "    </tr>\n",
       "    <tr>\n",
       "      <th>1</th>\n",
       "      <td>9</td>\n",
       "      <td>1</td>\n",
       "      <td>(55.76, 37.62)</td>\n",
       "      <td>MOSKMIH</td>\n",
       "    </tr>\n",
       "  </tbody>\n",
       "</table>\n",
       "</div>"
      ],
      "text/plain": [
       "   road_id  road_km        lat_long  station\n",
       "0        9        0  (55.76, 37.61)  MOSKMIH\n",
       "1        9        1  (55.76, 37.62)  MOSKMIH"
      ]
     },
     "execution_count": 29,
     "metadata": {},
     "output_type": "execute_result"
    }
   ],
   "source": [
    "#файл сохраненный из match_station.ipynb\n",
    "km_coord = pd.read_csv('data/km_coord.csv')\n",
    "km_coord.head(2)"
   ]
  },
  {
   "cell_type": "code",
   "execution_count": 30,
   "metadata": {},
   "outputs": [],
   "source": [
    "train = pd.merge(train, km_coord, how='left', on=['road_id', 'road_km'])\n",
    "test = pd.merge(test, km_coord, how='left', on=['road_id', 'road_km'])"
   ]
  },
  {
   "cell_type": "code",
   "execution_count": 31,
   "metadata": {},
   "outputs": [
    {
     "data": {
      "text/html": [
       "<div>\n",
       "<style scoped>\n",
       "    .dataframe tbody tr th:only-of-type {\n",
       "        vertical-align: middle;\n",
       "    }\n",
       "\n",
       "    .dataframe tbody tr th {\n",
       "        vertical-align: top;\n",
       "    }\n",
       "\n",
       "    .dataframe thead th {\n",
       "        text-align: right;\n",
       "    }\n",
       "</style>\n",
       "<table border=\"1\" class=\"dataframe\">\n",
       "  <thead>\n",
       "    <tr style=\"text-align: right;\">\n",
       "      <th></th>\n",
       "      <th>datetime</th>\n",
       "      <th>road_id</th>\n",
       "      <th>road_km</th>\n",
       "      <th>target</th>\n",
       "      <th>lane_count</th>\n",
       "      <th>volume</th>\n",
       "      <th>occupancy</th>\n",
       "      <th>speed</th>\n",
       "      <th>year</th>\n",
       "      <th>week</th>\n",
       "      <th>dayofweek</th>\n",
       "      <th>hour</th>\n",
       "      <th>man_injured_h</th>\n",
       "      <th>man_dead_h</th>\n",
       "      <th>car_damaged_h</th>\n",
       "      <th>count_h</th>\n",
       "      <th>target_h</th>\n",
       "      <th>count_week</th>\n",
       "      <th>target_week</th>\n",
       "      <th>count_dayofweek</th>\n",
       "      <th>target_dayofweek</th>\n",
       "      <th>count_hour</th>\n",
       "      <th>target_hour</th>\n",
       "      <th>length</th>\n",
       "      <th>avuch_loc</th>\n",
       "      <th>stabchar_type</th>\n",
       "      <th>crash_length</th>\n",
       "      <th>lat_long</th>\n",
       "      <th>station</th>\n",
       "    </tr>\n",
       "  </thead>\n",
       "  <tbody>\n",
       "    <tr>\n",
       "      <th>0</th>\n",
       "      <td>2016-01-05 09:00:00</td>\n",
       "      <td>9</td>\n",
       "      <td>790</td>\n",
       "      <td>2.0</td>\n",
       "      <td>1.0</td>\n",
       "      <td>588.0</td>\n",
       "      <td>3.8750</td>\n",
       "      <td>80.60</td>\n",
       "      <td>2016</td>\n",
       "      <td>1</td>\n",
       "      <td>1</td>\n",
       "      <td>9</td>\n",
       "      <td>4</td>\n",
       "      <td>0</td>\n",
       "      <td>34.0</td>\n",
       "      <td>18</td>\n",
       "      <td>1.111111</td>\n",
       "      <td>1.0</td>\n",
       "      <td>2.0</td>\n",
       "      <td>6.0</td>\n",
       "      <td>1.333333</td>\n",
       "      <td>3.0</td>\n",
       "      <td>1.333333</td>\n",
       "      <td>NaN</td>\n",
       "      <td>NaN</td>\n",
       "      <td>NaN</td>\n",
       "      <td>NaN</td>\n",
       "      <td>(61.56, 42.39)</td>\n",
       "      <td>VELSK</td>\n",
       "    </tr>\n",
       "    <tr>\n",
       "      <th>1</th>\n",
       "      <td>2016-01-06 14:00:00</td>\n",
       "      <td>9</td>\n",
       "      <td>1151</td>\n",
       "      <td>1.0</td>\n",
       "      <td>2.0</td>\n",
       "      <td>1508.0</td>\n",
       "      <td>6.2525</td>\n",
       "      <td>57.25</td>\n",
       "      <td>2016</td>\n",
       "      <td>1</td>\n",
       "      <td>2</td>\n",
       "      <td>14</td>\n",
       "      <td>6</td>\n",
       "      <td>0</td>\n",
       "      <td>39.0</td>\n",
       "      <td>22</td>\n",
       "      <td>1.136364</td>\n",
       "      <td>1.0</td>\n",
       "      <td>1.0</td>\n",
       "      <td>4.0</td>\n",
       "      <td>1.250000</td>\n",
       "      <td>2.0</td>\n",
       "      <td>1.000000</td>\n",
       "      <td>NaN</td>\n",
       "      <td>NaN</td>\n",
       "      <td>NaN</td>\n",
       "      <td>NaN</td>\n",
       "      <td>(64.14, 41.62)</td>\n",
       "      <td>HOLMOGO</td>\n",
       "    </tr>\n",
       "  </tbody>\n",
       "</table>\n",
       "</div>"
      ],
      "text/plain": [
       "             datetime  road_id  road_km  target  lane_count  volume  \\\n",
       "0 2016-01-05 09:00:00        9      790     2.0         1.0   588.0   \n",
       "1 2016-01-06 14:00:00        9     1151     1.0         2.0  1508.0   \n",
       "\n",
       "   occupancy  speed  year  week  dayofweek  hour  man_injured_h  man_dead_h  \\\n",
       "0     3.8750  80.60  2016     1          1     9              4           0   \n",
       "1     6.2525  57.25  2016     1          2    14              6           0   \n",
       "\n",
       "   car_damaged_h  count_h  target_h  count_week  target_week  count_dayofweek  \\\n",
       "0           34.0       18  1.111111         1.0          2.0              6.0   \n",
       "1           39.0       22  1.136364         1.0          1.0              4.0   \n",
       "\n",
       "   target_dayofweek  count_hour  target_hour  length  avuch_loc  \\\n",
       "0          1.333333         3.0     1.333333     NaN        NaN   \n",
       "1          1.250000         2.0     1.000000     NaN        NaN   \n",
       "\n",
       "   stabchar_type  crash_length        lat_long  station  \n",
       "0            NaN           NaN  (61.56, 42.39)    VELSK  \n",
       "1            NaN           NaN  (64.14, 41.62)  HOLMOGO  "
      ]
     },
     "execution_count": 31,
     "metadata": {},
     "output_type": "execute_result"
    }
   ],
   "source": [
    "train.head(2)"
   ]
  },
  {
   "cell_type": "markdown",
   "metadata": {},
   "source": [
    "## Погода"
   ]
  },
  {
   "cell_type": "code",
   "execution_count": 32,
   "metadata": {},
   "outputs": [
    {
     "data": {
      "text/html": [
       "<div>\n",
       "<style scoped>\n",
       "    .dataframe tbody tr th:only-of-type {\n",
       "        vertical-align: middle;\n",
       "    }\n",
       "\n",
       "    .dataframe tbody tr th {\n",
       "        vertical-align: top;\n",
       "    }\n",
       "\n",
       "    .dataframe thead th {\n",
       "        text-align: right;\n",
       "    }\n",
       "</style>\n",
       "<table border=\"1\" class=\"dataframe\">\n",
       "  <thead>\n",
       "    <tr style=\"text-align: right;\">\n",
       "      <th></th>\n",
       "      <th>road_id</th>\n",
       "      <th>station</th>\n",
       "      <th>phenomenon</th>\n",
       "      <th>start_date</th>\n",
       "      <th>start_ts</th>\n",
       "      <th>end_date</th>\n",
       "      <th>end_ts</th>\n",
       "    </tr>\n",
       "  </thead>\n",
       "  <tbody>\n",
       "    <tr>\n",
       "      <th>0</th>\n",
       "      <td>9</td>\n",
       "      <td>ALEKSAN</td>\n",
       "      <td>снег</td>\n",
       "      <td>2015-01-01</td>\n",
       "      <td>7:00</td>\n",
       "      <td>2015-01-01</td>\n",
       "      <td>8:30</td>\n",
       "    </tr>\n",
       "    <tr>\n",
       "      <th>1</th>\n",
       "      <td>9</td>\n",
       "      <td>ALEKSAN</td>\n",
       "      <td>снег</td>\n",
       "      <td>2015-01-01</td>\n",
       "      <td>9:00</td>\n",
       "      <td>2015-01-01</td>\n",
       "      <td>10:20</td>\n",
       "    </tr>\n",
       "  </tbody>\n",
       "</table>\n",
       "</div>"
      ],
      "text/plain": [
       "   road_id  station phenomenon  start_date start_ts    end_date end_ts\n",
       "0        9  ALEKSAN       снег  2015-01-01     7:00  2015-01-01   8:30\n",
       "1        9  ALEKSAN       снег  2015-01-01     9:00  2015-01-01  10:20"
      ]
     },
     "execution_count": 32,
     "metadata": {},
     "output_type": "execute_result"
    }
   ],
   "source": [
    "atmos_col = ['road_id', 'station', 'phenomenon', 'start_date', 'start_ts', 'end_date', 'end_ts'] #'intensity', \n",
    "atmos = pd.read_csv('data/atmos.csv')[atmos_col]\n",
    "atmos.head(2)"
   ]
  },
  {
   "cell_type": "code",
   "execution_count": 33,
   "metadata": {},
   "outputs": [],
   "source": [
    "#редко встречающееся объединим\n",
    "atmos.phenomenon.replace(' гололед', 'гололедица', inplace=True)\n",
    "atmos.phenomenon.replace('зерна снежные', 'крупа снежная', inplace=True) #1, 1-3 мм\n",
    "atmos.phenomenon.replace('крупа ледяная', 'крупа снежная', inplace=True) #лед и снег\n",
    "atmos.phenomenon.replace('ледяной дождь', 'крупа снежная', inplace=True) #1-3, 3 мм\n",
    "atmos.phenomenon.replace('туман поземный в окрестности станции', 'туман поземный', inplace=True)\n",
    "atmos.phenomenon.replace('туман в окрестности станции', 'туман', inplace=True)\n",
    "atmos.phenomenon.replace('снег мокрый', 'снег ливневый мокрый', inplace=True)\n",
    "atmos.phenomenon.replace('мгла снежная', 'мгла', inplace=True)\n",
    "atmos.phenomenon.replace('туман ледяной', 'туман', inplace=True)\n",
    "atmos.phenomenon.replace('пыльный поземок', 'поземок', inplace=True)"
   ]
  },
  {
   "cell_type": "code",
   "execution_count": 34,
   "metadata": {},
   "outputs": [
    {
     "data": {
      "text/plain": [
       "дождь ливневый                        88024\n",
       "снег                                  74155\n",
       " роса                                 68273\n",
       "дымка                                 49802\n",
       " иней                                 42088\n",
       "дождь                                 38759\n",
       "снег ливневый                         38567\n",
       "гололедица                            36994\n",
       "снег ливневый мокрый                  34317\n",
       "изморось кристаллическая              16519\n",
       "поземок                               12224\n",
       "морось                                10457\n",
       "NaN                                    7858\n",
       "гроза                                  6341\n",
       "туман                                  6075\n",
       "крупа снежная                          5724\n",
       "метель общая (вьюга, буран, пурга)     3027\n",
       "изморось зернистая                     2666\n",
       "туман просвечивающийся                 2606\n",
       "туман поземный                         2332\n",
       "полярное сияние                        1906\n",
       "метель низовая                          734\n",
       "мгла                                    296\n",
       "иглы ледяные                            269\n",
       "град                                    160\n",
       "зарница                                  77\n",
       "парение моря (озера, реки)               35\n",
       "шквал                                    28\n",
       "Name: phenomenon, dtype: int64"
      ]
     },
     "execution_count": 34,
     "metadata": {},
     "output_type": "execute_result"
    }
   ],
   "source": [
    "atmos.phenomenon.value_counts(dropna=False)"
   ]
  },
  {
   "cell_type": "code",
   "execution_count": 35,
   "metadata": {},
   "outputs": [],
   "source": [
    "#atmos['phenomenon'] = atmos['phenomenon'].fillna(\" \")\n",
    "le = LabelEncoder()\n",
    "atmos['phenomen'] = le.fit_transform(atmos['phenomenon'])\n",
    "#le.inverse_transform([atmos['phenomen'][0]])"
   ]
  },
  {
   "cell_type": "code",
   "execution_count": 37,
   "metadata": {},
   "outputs": [
    {
     "data": {
      "text/html": [
       "<div>\n",
       "<style scoped>\n",
       "    .dataframe tbody tr th:only-of-type {\n",
       "        vertical-align: middle;\n",
       "    }\n",
       "\n",
       "    .dataframe tbody tr th {\n",
       "        vertical-align: top;\n",
       "    }\n",
       "\n",
       "    .dataframe thead th {\n",
       "        text-align: right;\n",
       "    }\n",
       "</style>\n",
       "<table border=\"1\" class=\"dataframe\">\n",
       "  <thead>\n",
       "    <tr style=\"text-align: right;\">\n",
       "      <th></th>\n",
       "      <th>road_id</th>\n",
       "      <th>station</th>\n",
       "      <th>phenomenon</th>\n",
       "      <th>start_date</th>\n",
       "      <th>start_ts</th>\n",
       "      <th>end_date</th>\n",
       "      <th>end_ts</th>\n",
       "      <th>phenomen</th>\n",
       "      <th>ts</th>\n",
       "      <th>datetime</th>\n",
       "    </tr>\n",
       "  </thead>\n",
       "  <tbody>\n",
       "    <tr>\n",
       "      <th>0</th>\n",
       "      <td>9</td>\n",
       "      <td>ALEKSAN</td>\n",
       "      <td>снег</td>\n",
       "      <td>2015-01-01</td>\n",
       "      <td>7:00</td>\n",
       "      <td>2015-01-01</td>\n",
       "      <td>8:30</td>\n",
       "      <td>20</td>\n",
       "      <td>7</td>\n",
       "      <td>2015-01-01 07:00:00</td>\n",
       "    </tr>\n",
       "    <tr>\n",
       "      <th>1</th>\n",
       "      <td>9</td>\n",
       "      <td>ALEKSAN</td>\n",
       "      <td>снег</td>\n",
       "      <td>2015-01-01</td>\n",
       "      <td>9:00</td>\n",
       "      <td>2015-01-01</td>\n",
       "      <td>10:20</td>\n",
       "      <td>20</td>\n",
       "      <td>9</td>\n",
       "      <td>2015-01-01 09:00:00</td>\n",
       "    </tr>\n",
       "  </tbody>\n",
       "</table>\n",
       "</div>"
      ],
      "text/plain": [
       "   road_id  station phenomenon  start_date start_ts    end_date end_ts  \\\n",
       "0        9  ALEKSAN       снег  2015-01-01     7:00  2015-01-01   8:30   \n",
       "1        9  ALEKSAN       снег  2015-01-01     9:00  2015-01-01  10:20   \n",
       "\n",
       "   phenomen ts            datetime  \n",
       "0        20  7 2015-01-01 07:00:00  \n",
       "1        20  9 2015-01-01 09:00:00  "
      ]
     },
     "execution_count": 37,
     "metadata": {},
     "output_type": "execute_result"
    }
   ],
   "source": [
    "atmos['ts'] = atmos['start_ts'].str.split(':', 1, expand=True)[0]\n",
    "atmos['datetime'] =  pd.to_datetime(atmos['start_date'] + ' ' + atmos['ts'] + \":00:00\")\n",
    "atmos.head(2)"
   ]
  },
  {
   "cell_type": "code",
   "execution_count": 38,
   "metadata": {},
   "outputs": [],
   "source": [
    "train = pd.merge(train, atmos[['road_id', 'station', 'phenomen', 'datetime']], how='left', on=['datetime', 'road_id', 'station'])\n",
    "test = pd.merge(test, atmos[['road_id', 'station', 'phenomen', 'datetime']], how='left', on=['datetime', 'road_id', 'station'])"
   ]
  },
  {
   "cell_type": "code",
   "execution_count": 39,
   "metadata": {},
   "outputs": [],
   "source": [
    "# для категорийльной фичи в бустинг\n",
    "train['phenomen'] = train['phenomen'].fillna(999).astype(int)\n",
    "test['phenomen'] = test['phenomen'].fillna(999).astype(int)"
   ]
  },
  {
   "cell_type": "markdown",
   "metadata": {},
   "source": [
    "Метео"
   ]
  },
  {
   "cell_type": "code",
   "execution_count": 40,
   "metadata": {},
   "outputs": [
    {
     "name": "stderr",
     "output_type": "stream",
     "text": [
      "/home/tanya/anaconda3/lib/python3.8/site-packages/IPython/core/interactiveshell.py:3071: DtypeWarning: Columns (16,18) have mixed types.Specify dtype option on import or set low_memory=False.\n",
      "  has_raised = await self.run_ast_nodes(code_ast.body, cell_name,\n"
     ]
    },
    {
     "data": {
      "text/html": [
       "<div>\n",
       "<style scoped>\n",
       "    .dataframe tbody tr th:only-of-type {\n",
       "        vertical-align: middle;\n",
       "    }\n",
       "\n",
       "    .dataframe tbody tr th {\n",
       "        vertical-align: top;\n",
       "    }\n",
       "\n",
       "    .dataframe thead th {\n",
       "        text-align: right;\n",
       "    }\n",
       "</style>\n",
       "<table border=\"1\" class=\"dataframe\">\n",
       "  <thead>\n",
       "    <tr style=\"text-align: right;\">\n",
       "      <th></th>\n",
       "      <th>road_id</th>\n",
       "      <th>station</th>\n",
       "      <th>datetime</th>\n",
       "      <th>vsp_1</th>\n",
       "      <th>visib</th>\n",
       "      <th>clouds</th>\n",
       "      <th>wind_dir</th>\n",
       "      <th>avg_wind</th>\n",
       "      <th>max_wind</th>\n",
       "      <th>precip</th>\n",
       "      <th>temp_on_measure</th>\n",
       "      <th>temp_min</th>\n",
       "      <th>temp_max</th>\n",
       "      <th>humidity</th>\n",
       "      <th>pressure</th>\n",
       "    </tr>\n",
       "  </thead>\n",
       "  <tbody>\n",
       "    <tr>\n",
       "      <th>0</th>\n",
       "      <td>9</td>\n",
       "      <td>ALEKSAN</td>\n",
       "      <td>2015-01-01 18:00:00</td>\n",
       "      <td>16.0</td>\n",
       "      <td>97.0</td>\n",
       "      <td>6.0</td>\n",
       "      <td>229.0</td>\n",
       "      <td>2.0</td>\n",
       "      <td>5.0</td>\n",
       "      <td>NaN</td>\n",
       "      <td>-8.4</td>\n",
       "      <td>-9.7</td>\n",
       "      <td>-8.4</td>\n",
       "      <td>95.0</td>\n",
       "      <td>986.2</td>\n",
       "    </tr>\n",
       "    <tr>\n",
       "      <th>1</th>\n",
       "      <td>9</td>\n",
       "      <td>ALEKSAN</td>\n",
       "      <td>2015-01-01 21:00:00</td>\n",
       "      <td>16.0</td>\n",
       "      <td>97.0</td>\n",
       "      <td>6.0</td>\n",
       "      <td>220.0</td>\n",
       "      <td>2.0</td>\n",
       "      <td>5.0</td>\n",
       "      <td>NaN</td>\n",
       "      <td>-6.8</td>\n",
       "      <td>-8.4</td>\n",
       "      <td>-6.4</td>\n",
       "      <td>92.0</td>\n",
       "      <td>985.0</td>\n",
       "    </tr>\n",
       "  </tbody>\n",
       "</table>\n",
       "</div>"
      ],
      "text/plain": [
       "   road_id  station            datetime  vsp_1  visib  clouds  wind_dir  \\\n",
       "0        9  ALEKSAN 2015-01-01 18:00:00   16.0   97.0     6.0     229.0   \n",
       "1        9  ALEKSAN 2015-01-01 21:00:00   16.0   97.0     6.0     220.0   \n",
       "\n",
       "   avg_wind  max_wind  precip  temp_on_measure  temp_min  temp_max  humidity  \\\n",
       "0       2.0       5.0     NaN             -8.4      -9.7      -8.4      95.0   \n",
       "1       2.0       5.0     NaN             -6.8      -8.4      -6.4      92.0   \n",
       "\n",
       "   pressure  \n",
       "0     986.2  \n",
       "1     985.0  "
      ]
     },
     "execution_count": 40,
     "metadata": {},
     "output_type": "execute_result"
    }
   ],
   "source": [
    "meteo_col = ['road_id', 'station', 'measure_dt', 'vsp_1', 'visib', 'clouds', \n",
    "              'wind_dir', 'avg_wind', 'max_wind', 'precip', 'temp_on_measure', 'temp_min',\n",
    "            'temp_max', 'humidity', 'pressure'] #'weather_range',  'weather_on_measure',\n",
    "meteo = pd.read_csv('data/meteo.csv', parse_dates=['measure_dt'])[meteo_col]\n",
    "meteo.rename(columns={'measure_dt': 'datetime'}, inplace=True)\n",
    "meteo.head(2)"
   ]
  },
  {
   "cell_type": "code",
   "execution_count": 66,
   "metadata": {},
   "outputs": [],
   "source": [
    "#le = LabelEncoder()\n",
    "#meteo['weather_rang'] = le.fit_transform(meteo['weather_range'])\n",
    "#le.inverse_transform([meteo['weather_rang'])"
   ]
  },
  {
   "cell_type": "code",
   "execution_count": 41,
   "metadata": {},
   "outputs": [],
   "source": [
    "train = pd.merge(train, meteo, how='left', on=['datetime', 'road_id', 'station'])\n",
    "test = pd.merge(test, meteo, how='left', on=['datetime', 'road_id', 'station'])"
   ]
  },
  {
   "cell_type": "code",
   "execution_count": 42,
   "metadata": {},
   "outputs": [
    {
     "data": {
      "text/html": [
       "<div>\n",
       "<style scoped>\n",
       "    .dataframe tbody tr th:only-of-type {\n",
       "        vertical-align: middle;\n",
       "    }\n",
       "\n",
       "    .dataframe tbody tr th {\n",
       "        vertical-align: top;\n",
       "    }\n",
       "\n",
       "    .dataframe thead th {\n",
       "        text-align: right;\n",
       "    }\n",
       "</style>\n",
       "<table border=\"1\" class=\"dataframe\">\n",
       "  <thead>\n",
       "    <tr style=\"text-align: right;\">\n",
       "      <th></th>\n",
       "      <th>datetime</th>\n",
       "      <th>road_id</th>\n",
       "      <th>road_km</th>\n",
       "      <th>target</th>\n",
       "      <th>lane_count</th>\n",
       "      <th>volume</th>\n",
       "      <th>occupancy</th>\n",
       "      <th>speed</th>\n",
       "      <th>year</th>\n",
       "      <th>week</th>\n",
       "      <th>dayofweek</th>\n",
       "      <th>hour</th>\n",
       "      <th>man_injured_h</th>\n",
       "      <th>man_dead_h</th>\n",
       "      <th>car_damaged_h</th>\n",
       "      <th>count_h</th>\n",
       "      <th>target_h</th>\n",
       "      <th>count_week</th>\n",
       "      <th>target_week</th>\n",
       "      <th>count_dayofweek</th>\n",
       "      <th>target_dayofweek</th>\n",
       "      <th>count_hour</th>\n",
       "      <th>target_hour</th>\n",
       "      <th>length</th>\n",
       "      <th>avuch_loc</th>\n",
       "      <th>stabchar_type</th>\n",
       "      <th>crash_length</th>\n",
       "      <th>lat_long</th>\n",
       "      <th>station</th>\n",
       "      <th>phenomen</th>\n",
       "      <th>vsp_1</th>\n",
       "      <th>visib</th>\n",
       "      <th>clouds</th>\n",
       "      <th>wind_dir</th>\n",
       "      <th>avg_wind</th>\n",
       "      <th>max_wind</th>\n",
       "      <th>precip</th>\n",
       "      <th>temp_on_measure</th>\n",
       "      <th>temp_min</th>\n",
       "      <th>temp_max</th>\n",
       "      <th>humidity</th>\n",
       "      <th>pressure</th>\n",
       "    </tr>\n",
       "  </thead>\n",
       "  <tbody>\n",
       "    <tr>\n",
       "      <th>0</th>\n",
       "      <td>2016-01-05 09:00:00</td>\n",
       "      <td>9</td>\n",
       "      <td>790</td>\n",
       "      <td>2.0</td>\n",
       "      <td>1.0</td>\n",
       "      <td>588.0</td>\n",
       "      <td>3.875</td>\n",
       "      <td>80.6</td>\n",
       "      <td>2016</td>\n",
       "      <td>1</td>\n",
       "      <td>1</td>\n",
       "      <td>9</td>\n",
       "      <td>4</td>\n",
       "      <td>0</td>\n",
       "      <td>34.0</td>\n",
       "      <td>18</td>\n",
       "      <td>1.111111</td>\n",
       "      <td>1.0</td>\n",
       "      <td>2.0</td>\n",
       "      <td>6.0</td>\n",
       "      <td>1.333333</td>\n",
       "      <td>3.0</td>\n",
       "      <td>1.333333</td>\n",
       "      <td>NaN</td>\n",
       "      <td>NaN</td>\n",
       "      <td>NaN</td>\n",
       "      <td>NaN</td>\n",
       "      <td>(61.56, 42.39)</td>\n",
       "      <td>VELSK</td>\n",
       "      <td>2</td>\n",
       "      <td>10.0</td>\n",
       "      <td>97.0</td>\n",
       "      <td>7.0</td>\n",
       "      <td>117.0</td>\n",
       "      <td>3.0</td>\n",
       "      <td>7.0</td>\n",
       "      <td>NaN</td>\n",
       "      <td>-19.9</td>\n",
       "      <td>-20.0</td>\n",
       "      <td>-19.8</td>\n",
       "      <td>75.0</td>\n",
       "      <td>1009.4</td>\n",
       "    </tr>\n",
       "    <tr>\n",
       "      <th>1</th>\n",
       "      <td>2016-01-05 09:00:00</td>\n",
       "      <td>9</td>\n",
       "      <td>790</td>\n",
       "      <td>2.0</td>\n",
       "      <td>1.0</td>\n",
       "      <td>588.0</td>\n",
       "      <td>3.875</td>\n",
       "      <td>80.6</td>\n",
       "      <td>2016</td>\n",
       "      <td>1</td>\n",
       "      <td>1</td>\n",
       "      <td>9</td>\n",
       "      <td>4</td>\n",
       "      <td>0</td>\n",
       "      <td>34.0</td>\n",
       "      <td>18</td>\n",
       "      <td>1.111111</td>\n",
       "      <td>1.0</td>\n",
       "      <td>2.0</td>\n",
       "      <td>6.0</td>\n",
       "      <td>1.333333</td>\n",
       "      <td>3.0</td>\n",
       "      <td>1.333333</td>\n",
       "      <td>NaN</td>\n",
       "      <td>NaN</td>\n",
       "      <td>NaN</td>\n",
       "      <td>NaN</td>\n",
       "      <td>(61.56, 42.39)</td>\n",
       "      <td>VELSK</td>\n",
       "      <td>21</td>\n",
       "      <td>10.0</td>\n",
       "      <td>97.0</td>\n",
       "      <td>7.0</td>\n",
       "      <td>117.0</td>\n",
       "      <td>3.0</td>\n",
       "      <td>7.0</td>\n",
       "      <td>NaN</td>\n",
       "      <td>-19.9</td>\n",
       "      <td>-20.0</td>\n",
       "      <td>-19.8</td>\n",
       "      <td>75.0</td>\n",
       "      <td>1009.4</td>\n",
       "    </tr>\n",
       "  </tbody>\n",
       "</table>\n",
       "</div>"
      ],
      "text/plain": [
       "             datetime  road_id  road_km  target  lane_count  volume  \\\n",
       "0 2016-01-05 09:00:00        9      790     2.0         1.0   588.0   \n",
       "1 2016-01-05 09:00:00        9      790     2.0         1.0   588.0   \n",
       "\n",
       "   occupancy  speed  year  week  dayofweek  hour  man_injured_h  man_dead_h  \\\n",
       "0      3.875   80.6  2016     1          1     9              4           0   \n",
       "1      3.875   80.6  2016     1          1     9              4           0   \n",
       "\n",
       "   car_damaged_h  count_h  target_h  count_week  target_week  count_dayofweek  \\\n",
       "0           34.0       18  1.111111         1.0          2.0              6.0   \n",
       "1           34.0       18  1.111111         1.0          2.0              6.0   \n",
       "\n",
       "   target_dayofweek  count_hour  target_hour  length  avuch_loc  \\\n",
       "0          1.333333         3.0     1.333333     NaN        NaN   \n",
       "1          1.333333         3.0     1.333333     NaN        NaN   \n",
       "\n",
       "   stabchar_type  crash_length        lat_long station  phenomen  vsp_1  \\\n",
       "0            NaN           NaN  (61.56, 42.39)   VELSK         2   10.0   \n",
       "1            NaN           NaN  (61.56, 42.39)   VELSK        21   10.0   \n",
       "\n",
       "   visib  clouds  wind_dir  avg_wind  max_wind  precip  temp_on_measure  \\\n",
       "0   97.0     7.0     117.0       3.0       7.0     NaN            -19.9   \n",
       "1   97.0     7.0     117.0       3.0       7.0     NaN            -19.9   \n",
       "\n",
       "   temp_min  temp_max  humidity  pressure  \n",
       "0     -20.0     -19.8      75.0    1009.4  \n",
       "1     -20.0     -19.8      75.0    1009.4  "
      ]
     },
     "execution_count": 42,
     "metadata": {},
     "output_type": "execute_result"
    }
   ],
   "source": [
    "train.head(2)"
   ]
  },
  {
   "cell_type": "code",
   "execution_count": 44,
   "metadata": {},
   "outputs": [],
   "source": [
    "#Сохраним подготовленные датасеты для анализа\n",
    "compression_opts = dict(method='zip', archive_name='train_df.csv') \n",
    "train.to_csv('train_df.zip', index=False, compression=compression_opts)\n",
    "compression_opts = dict(method='zip', archive_name='test_df.csv')\n",
    "test.to_csv('test_df.zip', index=False, compression=compression_opts)"
   ]
  },
  {
   "cell_type": "markdown",
   "metadata": {},
   "source": [
    "## Тренировка модели"
   ]
  },
  {
   "cell_type": "code",
   "execution_count": 45,
   "metadata": {},
   "outputs": [
    {
     "name": "stdout",
     "output_type": "stream",
     "text": [
      "Нулевых значений переменной target:  2473508\n",
      "Ненулевых значений переменной target:  1431\n"
     ]
    }
   ],
   "source": [
    "print(\"Нулевых значений переменной target: \", train[train['target'] == 0].shape[0])\n",
    "print(\"Ненулевых значений переменной target: \", train[train['target'] != 0].shape[0])"
   ]
  },
  {
   "cell_type": "code",
   "execution_count": 63,
   "metadata": {},
   "outputs": [],
   "source": [
    "# снизим объем выборки, рандомно удалив 98% строк с нулевыми значениями для target\n",
    "train_ = train.drop(train[train['target'] == 0].sample(frac=.98).index)"
   ]
  },
  {
   "cell_type": "code",
   "execution_count": 132,
   "metadata": {},
   "outputs": [],
   "source": [
    "columns = ['lane_count', 'volume','occupancy', 'speed', #'week', 'dayofweek', 'hour', \n",
    "           'man_injured_h', 'man_dead_h', 'car_damaged_h', 'count_h', 'target_h',\n",
    "           'count_week', 'count_dayofweek', 'count_hour', 'target_dayofweek', 'target_week', 'target_hour',  \n",
    "           'length', 'avuch_loc', 'stabchar_type', 'crash_length',  \n",
    "           'vsp_1', 'visib', 'clouds',  'wind_dir', 'avg_wind', 'max_wind', 'precip', \n",
    "           'temp_on_measure', 'temp_min', 'temp_max', 'pressure', #'phenomen',\n",
    "            ] \n",
    "\n",
    "cat_feat = ['phenomen'] #'week', 'dayofweek', 'hour', \n",
    "\n",
    "X_train = train[columns]\n",
    "y_train = train['target']\n",
    "\n",
    "X_test = test[columns]\n",
    "#y_test = test['target']"
   ]
  },
  {
   "cell_type": "code",
   "execution_count": 133,
   "metadata": {},
   "outputs": [
    {
     "name": "stdout",
     "output_type": "stream",
     "text": [
      "Размер выборки для обучения:  (1979951, 30)\n",
      "Размер выборки для тестирования:  (494988, 30)\n"
     ]
    }
   ],
   "source": [
    "X_train_part, X_valid, y_train_part, y_valid = train_test_split(X_train, y_train, test_size=0.2, random_state=88)\n",
    "print(\"Размер выборки для обучения: \", X_train_part.shape)\n",
    "print(\"Размер выборки для тестирования: \", X_valid.shape)"
   ]
  },
  {
   "cell_type": "code",
   "execution_count": 134,
   "metadata": {},
   "outputs": [
    {
     "name": "stdout",
     "output_type": "stream",
     "text": [
      "0:\tlearn: 1.0786679\ttest: 1.0787512\tbest: 1.0787512 (0)\ttotal: 14.6ms\tremaining: 2m 26s\n",
      "500:\tlearn: 0.0082350\ttest: 0.0083103\tbest: 0.0083103 (500)\ttotal: 7.05s\tremaining: 2m 13s\n",
      "1000:\tlearn: 0.0040804\ttest: 0.0042126\tbest: 0.0042126 (1000)\ttotal: 14s\tremaining: 2m 6s\n",
      "1500:\tlearn: 0.0038822\ttest: 0.0040168\tbest: 0.0040168 (1500)\ttotal: 20.6s\tremaining: 1m 56s\n",
      "2000:\tlearn: 0.0037834\ttest: 0.0039288\tbest: 0.0039288 (2000)\ttotal: 27.1s\tremaining: 1m 48s\n",
      "2500:\tlearn: 0.0037057\ttest: 0.0038658\tbest: 0.0038658 (2500)\ttotal: 33.5s\tremaining: 1m 40s\n",
      "3000:\tlearn: 0.0036458\ttest: 0.0038212\tbest: 0.0038212 (3000)\ttotal: 40.2s\tremaining: 1m 33s\n",
      "3500:\tlearn: 0.0035952\ttest: 0.0037867\tbest: 0.0037867 (3500)\ttotal: 47.1s\tremaining: 1m 27s\n",
      "4000:\tlearn: 0.0035530\ttest: 0.0037582\tbest: 0.0037582 (4000)\ttotal: 53.7s\tremaining: 1m 20s\n",
      "4500:\tlearn: 0.0035153\ttest: 0.0037352\tbest: 0.0037351 (4498)\ttotal: 1m\tremaining: 1m 13s\n",
      "5000:\tlearn: 0.0034799\ttest: 0.0037129\tbest: 0.0037129 (5000)\ttotal: 1m 6s\tremaining: 1m 6s\n",
      "5500:\tlearn: 0.0034464\ttest: 0.0036922\tbest: 0.0036922 (5498)\ttotal: 1m 13s\tremaining: 1m\n",
      "6000:\tlearn: 0.0034177\ttest: 0.0036751\tbest: 0.0036751 (5999)\ttotal: 1m 20s\tremaining: 53.4s\n",
      "6500:\tlearn: 0.0033896\ttest: 0.0036575\tbest: 0.0036575 (6500)\ttotal: 1m 26s\tremaining: 46.8s\n",
      "7000:\tlearn: 0.0033632\ttest: 0.0036439\tbest: 0.0036438 (6995)\ttotal: 1m 33s\tremaining: 40.1s\n",
      "7500:\tlearn: 0.0033400\ttest: 0.0036299\tbest: 0.0036299 (7500)\ttotal: 1m 40s\tremaining: 33.4s\n",
      "8000:\tlearn: 0.0033158\ttest: 0.0036178\tbest: 0.0036178 (7998)\ttotal: 1m 46s\tremaining: 26.7s\n",
      "8500:\tlearn: 0.0032930\ttest: 0.0036067\tbest: 0.0036067 (8490)\ttotal: 1m 53s\tremaining: 20s\n",
      "9000:\tlearn: 0.0032711\ttest: 0.0035956\tbest: 0.0035956 (9000)\ttotal: 1m 59s\tremaining: 13.3s\n",
      "9500:\tlearn: 0.0032510\ttest: 0.0035868\tbest: 0.0035867 (9499)\ttotal: 2m 6s\tremaining: 6.63s\n",
      "9999:\tlearn: 0.0032323\ttest: 0.0035779\tbest: 0.0035779 (9999)\ttotal: 2m 12s\tremaining: 0us\n",
      "bestTest = 0.003577913836\n",
      "bestIteration = 9999\n"
     ]
    }
   ],
   "source": [
    "params = {'loss_function':'MultiClass', 'task_type' : 'GPU',# \"eval_metric\" : 'AUC',\n",
    "          'leaf_estimation_iterations': 1, #'bagging_temperature' : 0.7, # 'boosting_type':'Ordered', \n",
    "          'iterations': 10000, 'depth': 4, 'learning_rate': 0.01, #'l2_leaf_reg': 1.5,\n",
    "          #'class_weights': {'0': 95.0, '1': 4.0, '2': 1.0}\n",
    "         }\n",
    "clf = CatBoostClassifier(**params, random_state=42)\n",
    "clf.fit(X_train_part, y_train_part, eval_set=(X_valid, y_valid), verbose=500, #cat_features = cat_feat,\n",
    "                 early_stopping_rounds = 50, use_best_model=True) \n",
    "predicted_target = clf.predict(X_valid)"
   ]
  },
  {
   "cell_type": "code",
   "execution_count": 135,
   "metadata": {},
   "outputs": [
    {
     "data": {
      "text/plain": [
       "0.3866031537341657"
      ]
     },
     "execution_count": 135,
     "metadata": {},
     "output_type": "execute_result"
    }
   ],
   "source": [
    "# оценим модель на тестово сэмпле\n",
    "f1_score(y_valid, predicted_target, average='macro')"
   ]
  },
  {
   "cell_type": "code",
   "execution_count": 136,
   "metadata": {},
   "outputs": [
    {
     "data": {
      "image/png": "[encoded data removed]",
      "text/plain": [
       "<Figure size 432x288 with 2 Axes>"
      ]
     },
     "metadata": {
      "needs_background": "light"
     },
     "output_type": "display_data"
    }
   ],
   "source": [
    "#plt.figure(figsize=(12, 9))\n",
    "\n",
    "data = {'y_Actual': y_valid.ravel(), 'y_Predicted': predicted_target.ravel()}\n",
    "df = pd.DataFrame(data, columns=['y_Actual','y_Predicted'])\n",
    "#confusion_matrix = pd.crosstab(df['y_Actual'], df['y_Predicted'], rownames=['Actual'], colnames=['Predicted'], margins = True)\n",
    "confusion_matrix = pd.crosstab(df['y_Actual'], df['y_Predicted'], rownames=['Actual'], colnames=['Predicted'])\n",
    "\n",
    "sns.heatmap(confusion_matrix, annot=True, cmap='Blues', fmt='g')\n",
    "plt.show()"
   ]
  },
  {
   "cell_type": "code",
   "execution_count": 54,
   "metadata": {},
   "outputs": [],
   "source": [
    "#confusion_matrix(y_valid, predicted_target)\n",
    "#print(classification_report(y_valid, predicted_target, target_names=['0', '1', '2']))"
   ]
  },
  {
   "cell_type": "code",
   "execution_count": null,
   "metadata": {},
   "outputs": [],
   "source": [
    "#тоже через вероятности классов\n",
    "predicted_target = clf.predict_proba(X_valid)\n",
    "df_predictions = pd.DataFrame(predicted_target, index=X_valid.index, columns=[0, 1, 2])\n",
    "predicted_target = df_predictions.apply(lambda x: x.argmax(), axis=1)\n",
    "#predicted_target = df_predictions.idxmax(axis=1)\n",
    "df_predictions.head()"
   ]
  },
  {
   "cell_type": "markdown",
   "metadata": {},
   "source": [
    "### Прогноз и сохранение результата"
   ]
  },
  {
   "cell_type": "code",
   "execution_count": 137,
   "metadata": {},
   "outputs": [
    {
     "name": "stdout",
     "output_type": "stream",
     "text": [
      "CPU times: user 1min 26s, sys: 155 ms, total: 1min 26s\n",
      "Wall time: 23.6 s\n"
     ]
    },
    {
     "data": {
      "text/html": [
       "<div>\n",
       "<style scoped>\n",
       "    .dataframe tbody tr th:only-of-type {\n",
       "        vertical-align: middle;\n",
       "    }\n",
       "\n",
       "    .dataframe tbody tr th {\n",
       "        vertical-align: top;\n",
       "    }\n",
       "\n",
       "    .dataframe thead th {\n",
       "        text-align: right;\n",
       "    }\n",
       "</style>\n",
       "<table border=\"1\" class=\"dataframe\">\n",
       "  <thead>\n",
       "    <tr style=\"text-align: right;\">\n",
       "      <th></th>\n",
       "      <th>datetime</th>\n",
       "      <th>road_id</th>\n",
       "      <th>road_km</th>\n",
       "      <th>target</th>\n",
       "    </tr>\n",
       "  </thead>\n",
       "  <tbody>\n",
       "    <tr>\n",
       "      <th>1435832</th>\n",
       "      <td>2019-01-26 12:00:00</td>\n",
       "      <td>14</td>\n",
       "      <td>16</td>\n",
       "      <td>2</td>\n",
       "    </tr>\n",
       "    <tr>\n",
       "      <th>2073873</th>\n",
       "      <td>2020-07-21 09:00:00</td>\n",
       "      <td>9</td>\n",
       "      <td>22</td>\n",
       "      <td>1</td>\n",
       "    </tr>\n",
       "    <tr>\n",
       "      <th>2073874</th>\n",
       "      <td>2020-07-21 09:00:00</td>\n",
       "      <td>9</td>\n",
       "      <td>22</td>\n",
       "      <td>1</td>\n",
       "    </tr>\n",
       "    <tr>\n",
       "      <th>2073875</th>\n",
       "      <td>2020-07-21 09:00:00</td>\n",
       "      <td>9</td>\n",
       "      <td>22</td>\n",
       "      <td>1</td>\n",
       "    </tr>\n",
       "    <tr>\n",
       "      <th>2073876</th>\n",
       "      <td>2020-07-21 09:00:00</td>\n",
       "      <td>9</td>\n",
       "      <td>22</td>\n",
       "      <td>1</td>\n",
       "    </tr>\n",
       "  </tbody>\n",
       "</table>\n",
       "</div>"
      ],
      "text/plain": [
       "                   datetime  road_id  road_km  target\n",
       "1435832 2019-01-26 12:00:00       14       16       2\n",
       "2073873 2020-07-21 09:00:00        9       22       1\n",
       "2073874 2020-07-21 09:00:00        9       22       1\n",
       "2073875 2020-07-21 09:00:00        9       22       1\n",
       "2073876 2020-07-21 09:00:00        9       22       1"
      ]
     },
     "execution_count": 137,
     "metadata": {},
     "output_type": "execute_result"
    }
   ],
   "source": [
    "%%time\n",
    "# предсказание значений переменной target\n",
    "test['target'] =  clf.predict(test[columns]).astype(int)\n",
    "prediction = test[['datetime','road_id','road_km','target']]\n",
    "prediction = remove_zero(prediction)\n",
    "#prediction['target'] = 1\n",
    "prediction.to_csv('submission/prediction10.csv', index=False)\n",
    "compression_opts = dict(method='zip', archive_name='prediction7.csv')\n",
    "prediction.to_csv('submission/prediction10.zip', index=False, compression=compression_opts)\n",
    "prediction.head()"
   ]
  },
  {
   "cell_type": "code",
   "execution_count": 138,
   "metadata": {},
   "outputs": [],
   "source": [
    "clf.save_model('cat_clf.cbm')\n",
    "#clf.load_model('cat_clf.cbm')"
   ]
  },
  {
   "cell_type": "code",
   "execution_count": null,
   "metadata": {},
   "outputs": [],
   "source": []
  },
  {
   "cell_type": "markdown",
   "metadata": {},
   "source": [
    " Важность фич"
   ]
  },
  {
   "cell_type": "code",
   "execution_count": 80,
   "metadata": {},
   "outputs": [
    {
     "data": {
      "text/plain": [
       "Text(0.5, 0, 'Importance')"
      ]
     },
     "execution_count": 80,
     "metadata": {},
     "output_type": "execute_result"
    },
    {
     "data": {
      "image/png": "[encoded data removed]",
      "text/plain": [
       "<Figure size 576x432 with 1 Axes>"
      ]
     },
     "metadata": {
      "needs_background": "light"
     },
     "output_type": "display_data"
    }
   ],
   "source": [
    "fea_imp = pd.DataFrame({'imp': clf.feature_importances_, 'col': X_train.columns})\n",
    "fea_imp = fea_imp.sort_values(['imp', 'col'], ascending=[True, False]).iloc[-20:]\n",
    "fea_imp.plot(kind='barh', x='col', y='imp', figsize=(8, 6), legend=None)\n",
    "plt.title('CatBoost - Feature Importance')\n",
    "plt.ylabel('Features')\n",
    "plt.xlabel('Importance')"
   ]
  },
  {
   "cell_type": "code",
   "execution_count": null,
   "metadata": {},
   "outputs": [],
   "source": []
  }
 ],
 "metadata": {
  "colab": {
   "collapsed_sections": [],
   "name": "baseline_track_third.ipynb",
   "provenance": []
  },
  "kernelspec": {
   "display_name": "Python 3",
   "language": "python",
   "name": "python3"
  },
  "language_info": {
   "codemirror_mode": {
    "name": "ipython",
    "version": 3
   },
   "file_extension": ".py",
   "mimetype": "text/x-python",
   "name": "python",
   "nbconvert_exporter": "python",
   "pygments_lexer": "ipython3",
   "version": "3.8.3"
  }
 },
 "nbformat": 4,
 "nbformat_minor": 4
}
